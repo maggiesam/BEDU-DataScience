{
  "nbformat": 4,
  "nbformat_minor": 0,
  "metadata": {
    "colab": {
      "name": "Equipo_4-Machine_Learning.ipynb",
      "provenance": [],
      "collapsed_sections": [
        "XmiL23YmN5Gq",
        "i5yynG5XKS7Y"
      ],
      "include_colab_link": true
    },
    "kernelspec": {
      "name": "python3",
      "display_name": "Python 3"
    },
    "language_info": {
      "name": "python"
    }
  },
  "cells": [
    {
      "cell_type": "markdown",
      "metadata": {
        "id": "view-in-github",
        "colab_type": "text"
      },
      "source": [
        "<a href=\"https://colab.research.google.com/github/maggiesam/BEDU-DataScience/blob/main/Machine%20Learning/Equipo_4_Machine_Learning.ipynb\" target=\"_parent\"><img src=\"https://colab.research.google.com/assets/colab-badge.svg\" alt=\"Open In Colab\"/></a>"
      ]
    },
    {
      "cell_type": "markdown",
      "metadata": {
        "id": "050WigdDBvhc"
      },
      "source": [
        "# El impacto de la sequía en México - Machine Learning\n",
        "## BEDU Disruptive Skills - Santander Universidades\n",
        "\n",
        "### Equipo 4\n",
        "\n",
        "María Magdalena Castro Sam\n",
        "\n",
        "Sergio Napoleón Leal\n",
        "\n",
        "Jesús Omar Magaña Medina\n",
        "\n",
        "Adrián Ramírez Cortés\n",
        "\n",
        "Efraín Soto Olmos\n"
      ]
    },
    {
      "cell_type": "markdown",
      "metadata": {
        "id": "BOU8g2CjrGYg"
      },
      "source": [
        "## Introducción"
      ]
    },
    {
      "cell_type": "markdown",
      "metadata": {
        "id": "N1-3igfcrK8V"
      },
      "source": [
        "La sequía es un fenómeno meteorológico que afecta a los recursos hídricos y por lo tanto tiene consecuencias tanto socioeconómicas y naturales, afectando a la población y los ecosistemas. \n",
        "\n",
        "En el presente proyecto se busca explorar los efectos de la sequía en el ámbito agrícola a través de técnicas de machine learning. Esto gracias a los proyectos previos que han permitido obtener información y análizar la información disponible.\n",
        "\n",
        "Este proyecto utilizó datasets previamente procesados. Se realizó una librería llamada MLUtilities.py con el fin de facilitar el uso de las librerías de machine leaning utilizadas. Adicionalmente se realizó una bitácora de experimentos que ayudó a mantener un registro de lo que se realizó.\n",
        "\n",
        "La librería MLUtilities.py se puede ver [aquí](https://github.com/maggiesam/BEDU-DataScience/blob/main/MLUtilities.py).\n",
        "\n",
        "La bitácora se puede ver [aquí](https://github.com/maggiesam/BEDU-DataScience/blob/main/Bitacora.md)."
      ]
    },
    {
      "cell_type": "markdown",
      "metadata": {
        "id": "XmiL23YmN5Gq"
      },
      "source": [
        "## Algoritmos no supervisados - KMeans"
      ]
    },
    {
      "cell_type": "code",
      "metadata": {
        "id": "a5y-7AxpQh2V"
      },
      "source": [
        "from sklearn.preprocessing import StandardScaler\n",
        "from sklearn.decomposition import PCA\n",
        "from sklearn.metrics import silhouette_score\n",
        "import sklearn.cluster as cluster\n",
        "import pandas as pd\n",
        "import seaborn as sns\n",
        "import matplotlib.pyplot as plt\n",
        "import numpy as np"
      ],
      "execution_count": null,
      "outputs": []
    },
    {
      "cell_type": "markdown",
      "metadata": {
        "id": "ystsIRrVw7_-"
      },
      "source": [
        "Se utilizaron los datos del archivo dataframe-junto.csv guardado en nuestro [repositorio](https://github.com/maggiesam/BEDU-DataScience/blob/main/Datasets/dataframe-junto.csv), este data frame contiene todos los datos que hemos recopilado para este proyecto"
      ]
    },
    {
      "cell_type": "code",
      "metadata": {
        "id": "hWHRDraP-e4i",
        "colab": {
          "base_uri": "https://localhost:8080/",
          "height": 206
        },
        "outputId": "266c8984-501a-4a57-c91c-383a950384db"
      },
      "source": [
        "data = pd.read_csv('https://raw.githubusercontent.com/maggiesam/BEDU-DataScience/main/Datasets/dataframe-junto.csv', index_col=0)\n",
        "data.head()"
      ],
      "execution_count": null,
      "outputs": [
        {
          "output_type": "execute_result",
          "data": {
            "text/html": [
              "<div>\n",
              "<style scoped>\n",
              "    .dataframe tbody tr th:only-of-type {\n",
              "        vertical-align: middle;\n",
              "    }\n",
              "\n",
              "    .dataframe tbody tr th {\n",
              "        vertical-align: top;\n",
              "    }\n",
              "\n",
              "    .dataframe thead th {\n",
              "        text-align: right;\n",
              "    }\n",
              "</style>\n",
              "<table border=\"1\" class=\"dataframe\">\n",
              "  <thead>\n",
              "    <tr style=\"text-align: right;\">\n",
              "      <th></th>\n",
              "      <th>ENTIDAD</th>\n",
              "      <th>Mes</th>\n",
              "      <th>Año</th>\n",
              "      <th>Tipo_sequia</th>\n",
              "      <th>Precipitacion</th>\n",
              "      <th>Temperatura_promedio</th>\n",
              "      <th>Temperatura_maxima</th>\n",
              "      <th>Temperatura_minima</th>\n",
              "      <th>Sembrada_ha</th>\n",
              "      <th>Cosechada_ha</th>\n",
              "      <th>perdida_ha</th>\n",
              "      <th>producto</th>\n",
              "    </tr>\n",
              "  </thead>\n",
              "  <tbody>\n",
              "    <tr>\n",
              "      <th>0</th>\n",
              "      <td>Aguascalientes</td>\n",
              "      <td>1</td>\n",
              "      <td>2005</td>\n",
              "      <td>NPS</td>\n",
              "      <td>0.0</td>\n",
              "      <td>12.699696</td>\n",
              "      <td>22.643727</td>\n",
              "      <td>2.755665</td>\n",
              "      <td>47286</td>\n",
              "      <td>43031</td>\n",
              "      <td>4255</td>\n",
              "      <td>maiz</td>\n",
              "    </tr>\n",
              "    <tr>\n",
              "      <th>1</th>\n",
              "      <td>Aguascalientes</td>\n",
              "      <td>1</td>\n",
              "      <td>2005</td>\n",
              "      <td>NPS</td>\n",
              "      <td>0.0</td>\n",
              "      <td>12.699696</td>\n",
              "      <td>22.643727</td>\n",
              "      <td>2.755665</td>\n",
              "      <td>11950</td>\n",
              "      <td>10570</td>\n",
              "      <td>1380</td>\n",
              "      <td>frijol</td>\n",
              "    </tr>\n",
              "    <tr>\n",
              "      <th>2</th>\n",
              "      <td>Aguascalientes</td>\n",
              "      <td>1</td>\n",
              "      <td>2006</td>\n",
              "      <td>D0</td>\n",
              "      <td>4.8</td>\n",
              "      <td>13.128922</td>\n",
              "      <td>24.114734</td>\n",
              "      <td>2.143109</td>\n",
              "      <td>39600</td>\n",
              "      <td>17684</td>\n",
              "      <td>21916</td>\n",
              "      <td>maiz</td>\n",
              "    </tr>\n",
              "    <tr>\n",
              "      <th>3</th>\n",
              "      <td>Aguascalientes</td>\n",
              "      <td>1</td>\n",
              "      <td>2006</td>\n",
              "      <td>D0</td>\n",
              "      <td>4.8</td>\n",
              "      <td>13.128922</td>\n",
              "      <td>24.114734</td>\n",
              "      <td>2.143109</td>\n",
              "      <td>10819</td>\n",
              "      <td>6602</td>\n",
              "      <td>4217</td>\n",
              "      <td>frijol</td>\n",
              "    </tr>\n",
              "    <tr>\n",
              "      <th>4</th>\n",
              "      <td>Aguascalientes</td>\n",
              "      <td>1</td>\n",
              "      <td>2007</td>\n",
              "      <td>NPS</td>\n",
              "      <td>17.2</td>\n",
              "      <td>13.320241</td>\n",
              "      <td>21.932079</td>\n",
              "      <td>4.860635</td>\n",
              "      <td>37727</td>\n",
              "      <td>31610</td>\n",
              "      <td>6117</td>\n",
              "      <td>maiz</td>\n",
              "    </tr>\n",
              "  </tbody>\n",
              "</table>\n",
              "</div>"
            ],
            "text/plain": [
              "          ENTIDAD  Mes   Año  ... Cosechada_ha  perdida_ha  producto\n",
              "0  Aguascalientes    1  2005  ...        43031        4255      maiz\n",
              "1  Aguascalientes    1  2005  ...        10570        1380    frijol\n",
              "2  Aguascalientes    1  2006  ...        17684       21916      maiz\n",
              "3  Aguascalientes    1  2006  ...         6602        4217    frijol\n",
              "4  Aguascalientes    1  2007  ...        31610        6117      maiz\n",
              "\n",
              "[5 rows x 12 columns]"
            ]
          },
          "metadata": {},
          "execution_count": 4
        }
      ]
    },
    {
      "cell_type": "markdown",
      "metadata": {
        "id": "scZjD4JayJNr"
      },
      "source": [
        "Damos un vistazo a la estructura de nuestra dataframe"
      ]
    },
    {
      "cell_type": "code",
      "metadata": {
        "colab": {
          "base_uri": "https://localhost:8080/"
        },
        "id": "cCb86SWSxcb8",
        "outputId": "6b5b78e6-0d6f-4375-8b6a-8dac8f21d65c"
      },
      "source": [
        "data.info()"
      ],
      "execution_count": null,
      "outputs": [
        {
          "output_type": "stream",
          "name": "stdout",
          "text": [
            "<class 'pandas.core.frame.DataFrame'>\n",
            "Int64Index: 12088 entries, 0 to 12087\n",
            "Data columns (total 12 columns):\n",
            " #   Column                Non-Null Count  Dtype  \n",
            "---  ------                --------------  -----  \n",
            " 0   ENTIDAD               12088 non-null  object \n",
            " 1   Mes                   12088 non-null  int64  \n",
            " 2   Año                   12088 non-null  int64  \n",
            " 3   Tipo_sequia           12088 non-null  object \n",
            " 4   Precipitacion         12088 non-null  float64\n",
            " 5   Temperatura_promedio  12088 non-null  float64\n",
            " 6   Temperatura_maxima    12088 non-null  float64\n",
            " 7   Temperatura_minima    12088 non-null  float64\n",
            " 8   Sembrada_ha           12088 non-null  int64  \n",
            " 9   Cosechada_ha          12088 non-null  int64  \n",
            " 10  perdida_ha            12088 non-null  int64  \n",
            " 11  producto              12088 non-null  object \n",
            "dtypes: float64(4), int64(5), object(3)\n",
            "memory usage: 1.2+ MB\n"
          ]
        }
      ]
    },
    {
      "cell_type": "markdown",
      "metadata": {
        "id": "j4dqr0AXyPNn"
      },
      "source": [
        "Creamos una copia de nuestros datos"
      ]
    },
    {
      "cell_type": "code",
      "metadata": {
        "id": "5M5SUxZ4TyP7"
      },
      "source": [
        "df = data.copy() "
      ],
      "execution_count": null,
      "outputs": []
    },
    {
      "cell_type": "markdown",
      "metadata": {
        "id": "yVOnm3mjyUii"
      },
      "source": [
        "Reemplazamos los datos que contienen datos de tipo cadena por datos numericos"
      ]
    },
    {
      "cell_type": "code",
      "metadata": {
        "id": "jf6dGjZ5-jXC"
      },
      "source": [
        "mapping = {'NPS':-1, 'D0':0, 'D1':1, 'D2':2, 'D3':3, 'D4':4}\n",
        "df['Tipo_sequia'] = df['Tipo_sequia'].map(mapping)\n",
        "\n",
        "mapping = {'maiz':1, 'frijol':2, 'trigo':3}\n",
        "df['producto'] = df['producto'].map(mapping)"
      ],
      "execution_count": null,
      "outputs": []
    },
    {
      "cell_type": "markdown",
      "metadata": {
        "id": "Tv4Sc5Qjyd6x"
      },
      "source": [
        "Verificamos que los datos esten bien"
      ]
    },
    {
      "cell_type": "code",
      "metadata": {
        "colab": {
          "base_uri": "https://localhost:8080/",
          "height": 206
        },
        "id": "JacsZ1mUQSs-",
        "outputId": "15ae6593-7788-4d91-a526-9f6e8d2cb1b6"
      },
      "source": [
        "df.head()"
      ],
      "execution_count": null,
      "outputs": [
        {
          "output_type": "execute_result",
          "data": {
            "text/html": [
              "<div>\n",
              "<style scoped>\n",
              "    .dataframe tbody tr th:only-of-type {\n",
              "        vertical-align: middle;\n",
              "    }\n",
              "\n",
              "    .dataframe tbody tr th {\n",
              "        vertical-align: top;\n",
              "    }\n",
              "\n",
              "    .dataframe thead th {\n",
              "        text-align: right;\n",
              "    }\n",
              "</style>\n",
              "<table border=\"1\" class=\"dataframe\">\n",
              "  <thead>\n",
              "    <tr style=\"text-align: right;\">\n",
              "      <th></th>\n",
              "      <th>ENTIDAD</th>\n",
              "      <th>Mes</th>\n",
              "      <th>Año</th>\n",
              "      <th>Tipo_sequia</th>\n",
              "      <th>Precipitacion</th>\n",
              "      <th>Temperatura_promedio</th>\n",
              "      <th>Temperatura_maxima</th>\n",
              "      <th>Temperatura_minima</th>\n",
              "      <th>Sembrada_ha</th>\n",
              "      <th>Cosechada_ha</th>\n",
              "      <th>perdida_ha</th>\n",
              "      <th>producto</th>\n",
              "    </tr>\n",
              "  </thead>\n",
              "  <tbody>\n",
              "    <tr>\n",
              "      <th>0</th>\n",
              "      <td>Aguascalientes</td>\n",
              "      <td>1</td>\n",
              "      <td>2005</td>\n",
              "      <td>-1</td>\n",
              "      <td>0.0</td>\n",
              "      <td>12.699696</td>\n",
              "      <td>22.643727</td>\n",
              "      <td>2.755665</td>\n",
              "      <td>47286</td>\n",
              "      <td>43031</td>\n",
              "      <td>4255</td>\n",
              "      <td>1</td>\n",
              "    </tr>\n",
              "    <tr>\n",
              "      <th>1</th>\n",
              "      <td>Aguascalientes</td>\n",
              "      <td>1</td>\n",
              "      <td>2005</td>\n",
              "      <td>-1</td>\n",
              "      <td>0.0</td>\n",
              "      <td>12.699696</td>\n",
              "      <td>22.643727</td>\n",
              "      <td>2.755665</td>\n",
              "      <td>11950</td>\n",
              "      <td>10570</td>\n",
              "      <td>1380</td>\n",
              "      <td>2</td>\n",
              "    </tr>\n",
              "    <tr>\n",
              "      <th>2</th>\n",
              "      <td>Aguascalientes</td>\n",
              "      <td>1</td>\n",
              "      <td>2006</td>\n",
              "      <td>0</td>\n",
              "      <td>4.8</td>\n",
              "      <td>13.128922</td>\n",
              "      <td>24.114734</td>\n",
              "      <td>2.143109</td>\n",
              "      <td>39600</td>\n",
              "      <td>17684</td>\n",
              "      <td>21916</td>\n",
              "      <td>1</td>\n",
              "    </tr>\n",
              "    <tr>\n",
              "      <th>3</th>\n",
              "      <td>Aguascalientes</td>\n",
              "      <td>1</td>\n",
              "      <td>2006</td>\n",
              "      <td>0</td>\n",
              "      <td>4.8</td>\n",
              "      <td>13.128922</td>\n",
              "      <td>24.114734</td>\n",
              "      <td>2.143109</td>\n",
              "      <td>10819</td>\n",
              "      <td>6602</td>\n",
              "      <td>4217</td>\n",
              "      <td>2</td>\n",
              "    </tr>\n",
              "    <tr>\n",
              "      <th>4</th>\n",
              "      <td>Aguascalientes</td>\n",
              "      <td>1</td>\n",
              "      <td>2007</td>\n",
              "      <td>-1</td>\n",
              "      <td>17.2</td>\n",
              "      <td>13.320241</td>\n",
              "      <td>21.932079</td>\n",
              "      <td>4.860635</td>\n",
              "      <td>37727</td>\n",
              "      <td>31610</td>\n",
              "      <td>6117</td>\n",
              "      <td>1</td>\n",
              "    </tr>\n",
              "  </tbody>\n",
              "</table>\n",
              "</div>"
            ],
            "text/plain": [
              "          ENTIDAD  Mes   Año  ...  Cosechada_ha  perdida_ha  producto\n",
              "0  Aguascalientes    1  2005  ...         43031        4255         1\n",
              "1  Aguascalientes    1  2005  ...         10570        1380         2\n",
              "2  Aguascalientes    1  2006  ...         17684       21916         1\n",
              "3  Aguascalientes    1  2006  ...          6602        4217         2\n",
              "4  Aguascalientes    1  2007  ...         31610        6117         1\n",
              "\n",
              "[5 rows x 12 columns]"
            ]
          },
          "metadata": {},
          "execution_count": 10
        }
      ]
    },
    {
      "cell_type": "markdown",
      "metadata": {
        "id": "7f5t_x2yyh8z"
      },
      "source": [
        "Escalamos nuestros para que no existan diferencias entre ellos"
      ]
    },
    {
      "cell_type": "code",
      "metadata": {
        "id": "Rg0X-45bQVkH"
      },
      "source": [
        "std_scaler = StandardScaler()\n",
        "data_cluster = df.iloc[:,3:]\n",
        "data_cluster[data_cluster.columns] = std_scaler.fit_transform(data_cluster)"
      ],
      "execution_count": null,
      "outputs": []
    },
    {
      "cell_type": "markdown",
      "metadata": {
        "id": "XBDGmYE3yrua"
      },
      "source": [
        "Verificamos el resultado"
      ]
    },
    {
      "cell_type": "code",
      "metadata": {
        "colab": {
          "base_uri": "https://localhost:8080/",
          "height": 206
        },
        "id": "F6dwGIBeTlSo",
        "outputId": "5f966c3a-357e-4a28-d230-82bf799994f9"
      },
      "source": [
        "data_cluster.head()"
      ],
      "execution_count": null,
      "outputs": [
        {
          "output_type": "execute_result",
          "data": {
            "text/html": [
              "<div>\n",
              "<style scoped>\n",
              "    .dataframe tbody tr th:only-of-type {\n",
              "        vertical-align: middle;\n",
              "    }\n",
              "\n",
              "    .dataframe tbody tr th {\n",
              "        vertical-align: top;\n",
              "    }\n",
              "\n",
              "    .dataframe thead th {\n",
              "        text-align: right;\n",
              "    }\n",
              "</style>\n",
              "<table border=\"1\" class=\"dataframe\">\n",
              "  <thead>\n",
              "    <tr style=\"text-align: right;\">\n",
              "      <th></th>\n",
              "      <th>Tipo_sequia</th>\n",
              "      <th>Precipitacion</th>\n",
              "      <th>Temperatura_promedio</th>\n",
              "      <th>Temperatura_maxima</th>\n",
              "      <th>Temperatura_minima</th>\n",
              "      <th>Sembrada_ha</th>\n",
              "      <th>Cosechada_ha</th>\n",
              "      <th>perdida_ha</th>\n",
              "      <th>producto</th>\n",
              "    </tr>\n",
              "  </thead>\n",
              "  <tbody>\n",
              "    <tr>\n",
              "      <th>0</th>\n",
              "      <td>-0.628916</td>\n",
              "      <td>-0.820044</td>\n",
              "      <td>-1.830640</td>\n",
              "      <td>-1.446769</td>\n",
              "      <td>-2.010085</td>\n",
              "      <td>-0.054079</td>\n",
              "      <td>0.182410</td>\n",
              "      <td>-0.263735</td>\n",
              "      <td>-1.083748</td>\n",
              "    </tr>\n",
              "    <tr>\n",
              "      <th>1</th>\n",
              "      <td>-0.628916</td>\n",
              "      <td>-0.820044</td>\n",
              "      <td>-1.830640</td>\n",
              "      <td>-1.446769</td>\n",
              "      <td>-2.010085</td>\n",
              "      <td>-0.350458</td>\n",
              "      <td>-0.230729</td>\n",
              "      <td>-0.300224</td>\n",
              "      <td>0.247318</td>\n",
              "    </tr>\n",
              "    <tr>\n",
              "      <th>2</th>\n",
              "      <td>0.418959</td>\n",
              "      <td>-0.772973</td>\n",
              "      <td>-1.744545</td>\n",
              "      <td>-1.107579</td>\n",
              "      <td>-2.112740</td>\n",
              "      <td>-0.118545</td>\n",
              "      <td>-0.140187</td>\n",
              "      <td>-0.039584</td>\n",
              "      <td>-1.083748</td>\n",
              "    </tr>\n",
              "    <tr>\n",
              "      <th>3</th>\n",
              "      <td>0.418959</td>\n",
              "      <td>-0.772973</td>\n",
              "      <td>-1.744545</td>\n",
              "      <td>-1.107579</td>\n",
              "      <td>-2.112740</td>\n",
              "      <td>-0.359944</td>\n",
              "      <td>-0.281230</td>\n",
              "      <td>-0.264217</td>\n",
              "      <td>0.247318</td>\n",
              "    </tr>\n",
              "    <tr>\n",
              "      <th>4</th>\n",
              "      <td>-0.628916</td>\n",
              "      <td>-0.651373</td>\n",
              "      <td>-1.706169</td>\n",
              "      <td>-1.610863</td>\n",
              "      <td>-1.657325</td>\n",
              "      <td>-0.134254</td>\n",
              "      <td>0.037053</td>\n",
              "      <td>-0.240102</td>\n",
              "      <td>-1.083748</td>\n",
              "    </tr>\n",
              "  </tbody>\n",
              "</table>\n",
              "</div>"
            ],
            "text/plain": [
              "   Tipo_sequia  Precipitacion  ...  perdida_ha  producto\n",
              "0    -0.628916      -0.820044  ...   -0.263735 -1.083748\n",
              "1    -0.628916      -0.820044  ...   -0.300224  0.247318\n",
              "2     0.418959      -0.772973  ...   -0.039584 -1.083748\n",
              "3     0.418959      -0.772973  ...   -0.264217  0.247318\n",
              "4    -0.628916      -0.651373  ...   -0.240102 -1.083748\n",
              "\n",
              "[5 rows x 9 columns]"
            ]
          },
          "metadata": {},
          "execution_count": 13
        }
      ]
    },
    {
      "cell_type": "markdown",
      "metadata": {
        "id": "PUB9EPOryttB"
      },
      "source": [
        "Reducimos a dos dimensiones nuestros data frame con originalmente 9 dimensiones"
      ]
    },
    {
      "cell_type": "code",
      "metadata": {
        "id": "d9G95kQXXIy3"
      },
      "source": [
        "pca_2 = PCA(2)\n",
        "pca_2_resultados = pca_2.fit_transform(data_cluster)"
      ],
      "execution_count": null,
      "outputs": []
    },
    {
      "cell_type": "markdown",
      "metadata": {
        "id": "qwrFTnJwy41r"
      },
      "source": [
        "Vemos cual es el valor de varianza acumulada"
      ]
    },
    {
      "cell_type": "code",
      "metadata": {
        "colab": {
          "base_uri": "https://localhost:8080/"
        },
        "id": "EBT6Z_LKXK-h",
        "outputId": "8b2f0cc6-e5df-45b5-a69e-2a91097b28b9"
      },
      "source": [
        "print(\"Varianza acumulada explicada por mis dos nuevas variables: {:.2%}\".format(np.sum(pca_2.explained_variance_ratio_)))"
      ],
      "execution_count": null,
      "outputs": [
        {
          "output_type": "stream",
          "name": "stdout",
          "text": [
            "Varianza acumulada explicada por mis dos nuevas variables: 61.44%\n"
          ]
        }
      ]
    },
    {
      "cell_type": "markdown",
      "metadata": {
        "id": "3OWO91Csy8Me"
      },
      "source": [
        "Graficamos nuestros nuevos datos"
      ]
    },
    {
      "cell_type": "code",
      "metadata": {
        "colab": {
          "base_uri": "https://localhost:8080/",
          "height": 355
        },
        "id": "L8TjMt5eYVA0",
        "outputId": "427199c9-bfbe-4665-cb86-d60b1e1544b3"
      },
      "source": [
        "sns.set(style=\"white\", rc={\"figure.figsize\":(12,5)})\n",
        "\n",
        "plt.scatter(x=pca_2_resultados[:,0], y=pca_2_resultados[:,1], color='black')\n",
        "plt.xlabel(\"Componente principal 1\")\n",
        "plt.ylabel(\"Componente principal 2\")\n",
        "plt.title(\"13 varibles de calidad de vino redcida a unicamente 2 dimensiones\")\n",
        "\n",
        "plt.show()"
      ],
      "execution_count": null,
      "outputs": [
        {
          "output_type": "display_data",
          "data": {
            "image/png": "[encoded data removed]",
            "text/plain": [
              "<Figure size 864x360 with 1 Axes>"
            ]
          },
          "metadata": {}
        }
      ]
    },
    {
      "cell_type": "markdown",
      "metadata": {
        "id": "1zucdjXwy-ao"
      },
      "source": [
        "Mediante un for hacemos pruebas con diferentes numero de cluster para el algoritmo K-means"
      ]
    },
    {
      "cell_type": "code",
      "metadata": {
        "id": "AV8fXQx5YbOY"
      },
      "source": [
        "inertia = []\n",
        "for i in range(1,10):\n",
        "  kmeans = cluster.KMeans(n_clusters=i, init=\"k-means++\", random_state=18)\n",
        "  kmeans.fit(data_cluster)\n",
        "  inertia.append(kmeans.inertia_)"
      ],
      "execution_count": null,
      "outputs": []
    },
    {
      "cell_type": "markdown",
      "metadata": {
        "id": "3EnS6fTZzGIH"
      },
      "source": [
        "De igual manera hacemos pruebas de diferente numero de cluster para K-means pero ahora usando el metodo de la silueta"
      ]
    },
    {
      "cell_type": "code",
      "metadata": {
        "id": "dLPqHMzCYcSo"
      },
      "source": [
        "silhouette = {}\n",
        "for i in range(2,10):\n",
        "    kmeans = cluster.KMeans(n_clusters=i,init='k-means++', n_init=15, max_iter=500,random_state=18)\n",
        "    kmeans.fit(data_cluster)\n",
        "    silhouette[i] = silhouette_score(data_cluster, kmeans.labels_, metric='euclidean')"
      ],
      "execution_count": null,
      "outputs": []
    },
    {
      "cell_type": "markdown",
      "metadata": {
        "id": "9c0yBH0WzPG0"
      },
      "source": [
        "Graficos los resultados del metodo del codo y silueta para elegir el valor optimo de k.\n",
        "Como vemos el valor optimo para este caso es 4"
      ]
    },
    {
      "cell_type": "code",
      "metadata": {
        "colab": {
          "base_uri": "https://localhost:8080/",
          "height": 355
        },
        "id": "KHLu46o9YfGb",
        "outputId": "885a3c4a-08c2-4342-cc4b-d512e3436c9c"
      },
      "source": [
        "# Vamos a graficar el metodo del codo y su complementario\n",
        "sns.set(style=\"white\", rc={\"figure.figsize\":(12,5)})\n",
        "plt.subplot(1,2,1)\n",
        "\n",
        "plt.plot(range(2,len(inertia)+2), inertia, marker=\"o\", color =\"red\")\n",
        "plt.xlabel(\"numero de clusters\")\n",
        "plt.title(\"Metodo del codo\")\n",
        "plt.grid(True)\n",
        "\n",
        "plt.subplot(1,2,2)\n",
        "\n",
        "\n",
        "plt.bar(range(len(silhouette)), list(silhouette.values()), align =\"center\", color =\"red\")\n",
        "plt.xticks(range(len(silhouette)), list(silhouette.keys()))\n",
        "plt.title(\"Score del metodo de la silueta\", fontweight = \"bold\")\n",
        "plt.xlabel(\"Número de clusters\")\n",
        "\n",
        "plt.show()\n",
        "# Elegimos la barra mas grande en la silueta y el punto donde se separa poco en el metodo del codo\n",
        "# en este caso el mejor numero de cluster es 3"
      ],
      "execution_count": null,
      "outputs": [
        {
          "output_type": "display_data",
          "data": {
            "image/png": "[encoded data removed]",
            "text/plain": [
              "<Figure size 864x360 with 2 Axes>"
            ]
          },
          "metadata": {}
        }
      ]
    },
    {
      "cell_type": "markdown",
      "metadata": {
        "id": "4IDg0cFizWCq"
      },
      "source": [
        "Ya que tengamos el valor de k, usamos el algoritmo K-means con 4 cluster y lo alimentamos con los datos. De esta manera calculamos los centroides"
      ]
    },
    {
      "cell_type": "code",
      "metadata": {
        "id": "bxu8Ehv6YkqO"
      },
      "source": [
        "kmeans = cluster.KMeans(n_clusters=4, random_state=84, init=\"k-means++\")\n",
        "kmeans_labels = kmeans.fit_predict(data_cluster)\n",
        "\n",
        "centroids = kmeans.cluster_centers_\n",
        "centroides_pca = pca_2.transform(centroids)"
      ],
      "execution_count": null,
      "outputs": []
    },
    {
      "cell_type": "markdown",
      "metadata": {
        "id": "21UfCcBsz0SN"
      },
      "source": [
        "Graficamos nuestros datos y Centroides calculados por K-means"
      ]
    },
    {
      "cell_type": "code",
      "metadata": {
        "colab": {
          "base_uri": "https://localhost:8080/",
          "height": 410
        },
        "id": "ldz6xbcwYzzl",
        "outputId": "b8def191-992d-4323-cb23-1b1d8f6bda7d"
      },
      "source": [
        "sns.set(style=\"white\", rc={\"figure.figsize\":(9,6)})\n",
        "\n",
        "plt.scatter(x=pca_2_resultados[:,0], y=pca_2_resultados[:,1], c=kmeans_labels, cmap=\"autumn\")\n",
        "plt.scatter(centroides_pca[:,0], centroides_pca[:,1], marker='o', color=\"black\", linewidths=4, zorder=10)\n",
        "plt.title(\"Data clusterizada por analisis de componentes principales\")\n",
        "plt.xlabel(\"componente 1\")\n",
        "plt.ylabel(\"componente 2\")\n",
        "\n",
        "plt.show()"
      ],
      "execution_count": null,
      "outputs": [
        {
          "output_type": "display_data",
          "data": {
            "image/png": "[encoded data removed]",
            "text/plain": [
              "<Figure size 648x432 with 1 Axes>"
            ]
          },
          "metadata": {}
        }
      ]
    },
    {
      "cell_type": "markdown",
      "metadata": {
        "id": "i5yynG5XKS7Y"
      },
      "source": [
        "## Regresión lineal"
      ]
    },
    {
      "cell_type": "markdown",
      "metadata": {
        "id": "dKVdmgDfQYnt"
      },
      "source": [
        "Buscamos poder predecir el porcentaje de siembra cosechado, utilizando las variables meteorológicas de temperatura y precipitación, así como la cantidad de hectáreas sembradas"
      ]
    },
    {
      "cell_type": "markdown",
      "metadata": {
        "id": "nTy_q0PVQpQ1"
      },
      "source": [
        "Para eso cargamos el archivo MLUtilities.py como libreria de nuestro repositorio"
      ]
    },
    {
      "cell_type": "code",
      "metadata": {
        "id": "GSw5eQRMKmd8",
        "colab": {
          "base_uri": "https://localhost:8080/"
        },
        "outputId": "ddc3cd17-b0bd-488b-c496-1a5d19918bf7"
      },
      "source": [
        "!wget \"https://raw.githubusercontent.com/maggiesam/BEDU-DataScience/main/MLUtilities.py\""
      ],
      "execution_count": null,
      "outputs": [
        {
          "output_type": "stream",
          "name": "stdout",
          "text": [
            "--2021-10-17 22:27:03--  https://raw.githubusercontent.com/maggiesam/BEDU-DataScience/main/MLUtilities.py\n",
            "Resolving raw.githubusercontent.com (raw.githubusercontent.com)... 185.199.108.133, 185.199.109.133, 185.199.110.133, ...\n",
            "Connecting to raw.githubusercontent.com (raw.githubusercontent.com)|185.199.108.133|:443... connected.\n",
            "HTTP request sent, awaiting response... 200 OK\n",
            "Length: 6652 (6.5K) [text/plain]\n",
            "Saving to: ‘MLUtilities.py’\n",
            "\n",
            "\rMLUtilities.py        0%[                    ]       0  --.-KB/s               \rMLUtilities.py      100%[===================>]   6.50K  --.-KB/s    in 0s      \n",
            "\n",
            "2021-10-17 22:27:03 (60.8 MB/s) - ‘MLUtilities.py’ saved [6652/6652]\n",
            "\n"
          ]
        }
      ]
    },
    {
      "cell_type": "code",
      "metadata": {
        "id": "dyi5I3HnQ08M"
      },
      "source": [
        "import MLUtilities as mlu"
      ],
      "execution_count": null,
      "outputs": []
    },
    {
      "cell_type": "markdown",
      "metadata": {
        "id": "ZfRQCqF6QVEx"
      },
      "source": [
        "El modelo se realiza para cada planta por separado, y los resultados de los experimentos expuestos en la bitácora, muestran que cada una tiene un modelo distinto. \\\\\n",
        "Los modelos se separan por grados y ademas la opción de hacer el modelo por meses o todos los datos en conjunto.\n"
      ]
    },
    {
      "cell_type": "markdown",
      "metadata": {
        "id": "wkF2ecnjV2bY"
      },
      "source": [
        "Para el caso del maiz, se ve que el mejor modelo para la predicción es separar los datos por meses y utilizar una regresión de grado 2"
      ]
    },
    {
      "cell_type": "code",
      "metadata": {
        "colab": {
          "base_uri": "https://localhost:8080/",
          "height": 577
        },
        "id": "oSzMJC-tV1zR",
        "outputId": "689b4788-5272-4423-e68e-033aa751bc4f"
      },
      "source": [
        "mlu.regresion_lineal(planta=0, grado=2, meses=True)"
      ],
      "execution_count": null,
      "outputs": [
        {
          "output_type": "stream",
          "name": "stdout",
          "text": [
            "función de regresion polinomica de grado 2 de maiz\n",
            "Entrenamiento: MSE =613.6261702756863\n",
            "Pruebas: MSE =613.1658306750875\n"
          ]
        },
        {
          "output_type": "stream",
          "name": "stderr",
          "text": [
            "/content/MLUtilities.py:128: SettingWithCopyWarning: \n",
            "A value is trying to be set on a copy of a slice from a DataFrame.\n",
            "Try using .loc[row_indexer,col_indexer] = value instead\n",
            "\n",
            "See the caveats in the documentation: https://pandas.pydata.org/pandas-docs/stable/user_guide/indexing.html#returning-a-view-versus-a-copy\n",
            "  producto[\"porcentaje\"] = producto[\"Cosechada_ha\"]*100/producto[\"Sembrada_ha\"]\n"
          ]
        },
        {
          "output_type": "execute_result",
          "data": {
            "text/html": [
              "<div>\n",
              "<style scoped>\n",
              "    .dataframe tbody tr th:only-of-type {\n",
              "        vertical-align: middle;\n",
              "    }\n",
              "\n",
              "    .dataframe tbody tr th {\n",
              "        vertical-align: top;\n",
              "    }\n",
              "\n",
              "    .dataframe thead th {\n",
              "        text-align: right;\n",
              "    }\n",
              "</style>\n",
              "<table border=\"1\" class=\"dataframe\">\n",
              "  <thead>\n",
              "    <tr style=\"text-align: right;\">\n",
              "      <th></th>\n",
              "      <th>valor_real</th>\n",
              "      <th>prediccion</th>\n",
              "    </tr>\n",
              "  </thead>\n",
              "  <tbody>\n",
              "    <tr>\n",
              "      <th>0</th>\n",
              "      <td>96.284784</td>\n",
              "      <td>86.514541</td>\n",
              "    </tr>\n",
              "    <tr>\n",
              "      <th>1</th>\n",
              "      <td>93.849796</td>\n",
              "      <td>61.488372</td>\n",
              "    </tr>\n",
              "    <tr>\n",
              "      <th>2</th>\n",
              "      <td>42.140983</td>\n",
              "      <td>63.063449</td>\n",
              "    </tr>\n",
              "    <tr>\n",
              "      <th>3</th>\n",
              "      <td>65.864263</td>\n",
              "      <td>53.798631</td>\n",
              "    </tr>\n",
              "    <tr>\n",
              "      <th>4</th>\n",
              "      <td>28.989172</td>\n",
              "      <td>76.077810</td>\n",
              "    </tr>\n",
              "    <tr>\n",
              "      <th>...</th>\n",
              "      <td>...</td>\n",
              "      <td>...</td>\n",
              "    </tr>\n",
              "    <tr>\n",
              "      <th>105</th>\n",
              "      <td>42.947461</td>\n",
              "      <td>66.659700</td>\n",
              "    </tr>\n",
              "    <tr>\n",
              "      <th>106</th>\n",
              "      <td>77.995529</td>\n",
              "      <td>69.473012</td>\n",
              "    </tr>\n",
              "    <tr>\n",
              "      <th>107</th>\n",
              "      <td>70.905707</td>\n",
              "      <td>79.647885</td>\n",
              "    </tr>\n",
              "    <tr>\n",
              "      <th>108</th>\n",
              "      <td>12.376238</td>\n",
              "      <td>63.607983</td>\n",
              "    </tr>\n",
              "    <tr>\n",
              "      <th>109</th>\n",
              "      <td>70.257689</td>\n",
              "      <td>62.852701</td>\n",
              "    </tr>\n",
              "  </tbody>\n",
              "</table>\n",
              "<p>110 rows × 2 columns</p>\n",
              "</div>"
            ],
            "text/plain": [
              "     valor_real  prediccion\n",
              "0     96.284784   86.514541\n",
              "1     93.849796   61.488372\n",
              "2     42.140983   63.063449\n",
              "3     65.864263   53.798631\n",
              "4     28.989172   76.077810\n",
              "..          ...         ...\n",
              "105   42.947461   66.659700\n",
              "106   77.995529   69.473012\n",
              "107   70.905707   79.647885\n",
              "108   12.376238   63.607983\n",
              "109   70.257689   62.852701\n",
              "\n",
              "[110 rows x 2 columns]"
            ]
          },
          "metadata": {},
          "execution_count": 3
        }
      ]
    },
    {
      "cell_type": "markdown",
      "metadata": {
        "id": "ltxHaeICWKB5"
      },
      "source": [
        "Para el caso del frijol, el mejor modelo para la predicción es el modelo sin separación por meses y de grado 2"
      ]
    },
    {
      "cell_type": "code",
      "metadata": {
        "colab": {
          "base_uri": "https://localhost:8080/",
          "height": 577
        },
        "id": "bTTEqXTDWazp",
        "outputId": "fcd51fbc-07cc-4640-e3d0-729f80c5ba2e"
      },
      "source": [
        "mlu.regresion_lineal(planta=1, grado=3, meses=False)"
      ],
      "execution_count": null,
      "outputs": [
        {
          "output_type": "stream",
          "name": "stdout",
          "text": [
            "función de regresion polinomica de grado 3 de frijol\n",
            "Entrenamiento: MSE =1054.3071924551366\n",
            "Pruebas: MSE =1053.832373738116\n"
          ]
        },
        {
          "output_type": "stream",
          "name": "stderr",
          "text": [
            "/content/MLUtilities.py:128: SettingWithCopyWarning: \n",
            "A value is trying to be set on a copy of a slice from a DataFrame.\n",
            "Try using .loc[row_indexer,col_indexer] = value instead\n",
            "\n",
            "See the caveats in the documentation: https://pandas.pydata.org/pandas-docs/stable/user_guide/indexing.html#returning-a-view-versus-a-copy\n",
            "  producto[\"porcentaje\"] = producto[\"Cosechada_ha\"]*100/producto[\"Sembrada_ha\"]\n"
          ]
        },
        {
          "output_type": "execute_result",
          "data": {
            "text/html": [
              "<div>\n",
              "<style scoped>\n",
              "    .dataframe tbody tr th:only-of-type {\n",
              "        vertical-align: middle;\n",
              "    }\n",
              "\n",
              "    .dataframe tbody tr th {\n",
              "        vertical-align: top;\n",
              "    }\n",
              "\n",
              "    .dataframe thead th {\n",
              "        text-align: right;\n",
              "    }\n",
              "</style>\n",
              "<table border=\"1\" class=\"dataframe\">\n",
              "  <thead>\n",
              "    <tr style=\"text-align: right;\">\n",
              "      <th></th>\n",
              "      <th>valor_real</th>\n",
              "      <th>prediccion</th>\n",
              "    </tr>\n",
              "  </thead>\n",
              "  <tbody>\n",
              "    <tr>\n",
              "      <th>0</th>\n",
              "      <td>99.716228</td>\n",
              "      <td>138.572357</td>\n",
              "    </tr>\n",
              "    <tr>\n",
              "      <th>1</th>\n",
              "      <td>39.293428</td>\n",
              "      <td>68.172325</td>\n",
              "    </tr>\n",
              "    <tr>\n",
              "      <th>2</th>\n",
              "      <td>99.693179</td>\n",
              "      <td>68.101161</td>\n",
              "    </tr>\n",
              "    <tr>\n",
              "      <th>3</th>\n",
              "      <td>6.930923</td>\n",
              "      <td>62.359138</td>\n",
              "    </tr>\n",
              "    <tr>\n",
              "      <th>4</th>\n",
              "      <td>72.380952</td>\n",
              "      <td>71.703757</td>\n",
              "    </tr>\n",
              "    <tr>\n",
              "      <th>...</th>\n",
              "      <td>...</td>\n",
              "      <td>...</td>\n",
              "    </tr>\n",
              "    <tr>\n",
              "      <th>965</th>\n",
              "      <td>0.486631</td>\n",
              "      <td>14.041122</td>\n",
              "    </tr>\n",
              "    <tr>\n",
              "      <th>966</th>\n",
              "      <td>24.224850</td>\n",
              "      <td>38.817552</td>\n",
              "    </tr>\n",
              "    <tr>\n",
              "      <th>967</th>\n",
              "      <td>47.104946</td>\n",
              "      <td>71.459087</td>\n",
              "    </tr>\n",
              "    <tr>\n",
              "      <th>968</th>\n",
              "      <td>100.000000</td>\n",
              "      <td>73.613714</td>\n",
              "    </tr>\n",
              "    <tr>\n",
              "      <th>969</th>\n",
              "      <td>98.727016</td>\n",
              "      <td>64.966046</td>\n",
              "    </tr>\n",
              "  </tbody>\n",
              "</table>\n",
              "<p>970 rows × 2 columns</p>\n",
              "</div>"
            ],
            "text/plain": [
              "     valor_real  prediccion\n",
              "0     99.716228  138.572357\n",
              "1     39.293428   68.172325\n",
              "2     99.693179   68.101161\n",
              "3      6.930923   62.359138\n",
              "4     72.380952   71.703757\n",
              "..          ...         ...\n",
              "965    0.486631   14.041122\n",
              "966   24.224850   38.817552\n",
              "967   47.104946   71.459087\n",
              "968  100.000000   73.613714\n",
              "969   98.727016   64.966046\n",
              "\n",
              "[970 rows x 2 columns]"
            ]
          },
          "metadata": {},
          "execution_count": 4
        }
      ]
    },
    {
      "cell_type": "markdown",
      "metadata": {
        "id": "1bhpYE8XWeKY"
      },
      "source": [
        "Para el caso del trigo, el mejor modelo para la predicción es el modelo de grado 1 con separación por meses"
      ]
    },
    {
      "cell_type": "code",
      "metadata": {
        "colab": {
          "base_uri": "https://localhost:8080/",
          "height": 1000
        },
        "id": "3DqZdyGiRsBK",
        "outputId": "77aebaf2-503b-4b44-e669-f1e690edde40"
      },
      "source": [
        "mlu.regresion_lineal(planta=2, grado=1, meses=True)"
      ],
      "execution_count": null,
      "outputs": [
        {
          "output_type": "stream",
          "name": "stdout",
          "text": [
            "función de regresion lineal de trigo\n",
            "Entrenamiento: MSE =557.434026049089\n",
            "Pruebas: MSE =855.016977392184\n"
          ]
        },
        {
          "output_type": "stream",
          "name": "stderr",
          "text": [
            "/content/MLUtilities.py:128: SettingWithCopyWarning: \n",
            "A value is trying to be set on a copy of a slice from a DataFrame.\n",
            "Try using .loc[row_indexer,col_indexer] = value instead\n",
            "\n",
            "See the caveats in the documentation: https://pandas.pydata.org/pandas-docs/stable/user_guide/indexing.html#returning-a-view-versus-a-copy\n",
            "  producto[\"porcentaje\"] = producto[\"Cosechada_ha\"]*100/producto[\"Sembrada_ha\"]\n"
          ]
        },
        {
          "output_type": "execute_result",
          "data": {
            "text/html": [
              "<div>\n",
              "<style scoped>\n",
              "    .dataframe tbody tr th:only-of-type {\n",
              "        vertical-align: middle;\n",
              "    }\n",
              "\n",
              "    .dataframe tbody tr th {\n",
              "        vertical-align: top;\n",
              "    }\n",
              "\n",
              "    .dataframe thead th {\n",
              "        text-align: right;\n",
              "    }\n",
              "</style>\n",
              "<table border=\"1\" class=\"dataframe\">\n",
              "  <thead>\n",
              "    <tr style=\"text-align: right;\">\n",
              "      <th></th>\n",
              "      <th>valor_real</th>\n",
              "      <th>prediccion</th>\n",
              "    </tr>\n",
              "  </thead>\n",
              "  <tbody>\n",
              "    <tr>\n",
              "      <th>0</th>\n",
              "      <td>5.725971</td>\n",
              "      <td>82.251943</td>\n",
              "    </tr>\n",
              "    <tr>\n",
              "      <th>1</th>\n",
              "      <td>90.693196</td>\n",
              "      <td>87.186435</td>\n",
              "    </tr>\n",
              "    <tr>\n",
              "      <th>2</th>\n",
              "      <td>100.000000</td>\n",
              "      <td>85.439683</td>\n",
              "    </tr>\n",
              "    <tr>\n",
              "      <th>3</th>\n",
              "      <td>24.429260</td>\n",
              "      <td>85.979821</td>\n",
              "    </tr>\n",
              "    <tr>\n",
              "      <th>4</th>\n",
              "      <td>23.586957</td>\n",
              "      <td>80.740415</td>\n",
              "    </tr>\n",
              "    <tr>\n",
              "      <th>5</th>\n",
              "      <td>100.000000</td>\n",
              "      <td>84.760120</td>\n",
              "    </tr>\n",
              "    <tr>\n",
              "      <th>6</th>\n",
              "      <td>100.000000</td>\n",
              "      <td>89.651367</td>\n",
              "    </tr>\n",
              "    <tr>\n",
              "      <th>7</th>\n",
              "      <td>79.865772</td>\n",
              "      <td>82.890734</td>\n",
              "    </tr>\n",
              "    <tr>\n",
              "      <th>8</th>\n",
              "      <td>100.000000</td>\n",
              "      <td>83.167977</td>\n",
              "    </tr>\n",
              "    <tr>\n",
              "      <th>9</th>\n",
              "      <td>100.000000</td>\n",
              "      <td>88.755305</td>\n",
              "    </tr>\n",
              "    <tr>\n",
              "      <th>10</th>\n",
              "      <td>100.000000</td>\n",
              "      <td>90.400864</td>\n",
              "    </tr>\n",
              "    <tr>\n",
              "      <th>11</th>\n",
              "      <td>93.198992</td>\n",
              "      <td>88.402176</td>\n",
              "    </tr>\n",
              "    <tr>\n",
              "      <th>12</th>\n",
              "      <td>100.000000</td>\n",
              "      <td>90.653458</td>\n",
              "    </tr>\n",
              "    <tr>\n",
              "      <th>13</th>\n",
              "      <td>99.783237</td>\n",
              "      <td>86.304067</td>\n",
              "    </tr>\n",
              "    <tr>\n",
              "      <th>14</th>\n",
              "      <td>79.051775</td>\n",
              "      <td>81.858890</td>\n",
              "    </tr>\n",
              "    <tr>\n",
              "      <th>15</th>\n",
              "      <td>99.574830</td>\n",
              "      <td>81.791301</td>\n",
              "    </tr>\n",
              "    <tr>\n",
              "      <th>16</th>\n",
              "      <td>31.666667</td>\n",
              "      <td>86.030406</td>\n",
              "    </tr>\n",
              "    <tr>\n",
              "      <th>17</th>\n",
              "      <td>66.760000</td>\n",
              "      <td>84.720367</td>\n",
              "    </tr>\n",
              "    <tr>\n",
              "      <th>18</th>\n",
              "      <td>16.949153</td>\n",
              "      <td>90.380733</td>\n",
              "    </tr>\n",
              "    <tr>\n",
              "      <th>19</th>\n",
              "      <td>100.000000</td>\n",
              "      <td>90.879259</td>\n",
              "    </tr>\n",
              "    <tr>\n",
              "      <th>20</th>\n",
              "      <td>100.000000</td>\n",
              "      <td>84.037341</td>\n",
              "    </tr>\n",
              "    <tr>\n",
              "      <th>21</th>\n",
              "      <td>100.000000</td>\n",
              "      <td>90.233596</td>\n",
              "    </tr>\n",
              "    <tr>\n",
              "      <th>22</th>\n",
              "      <td>17.307692</td>\n",
              "      <td>85.320992</td>\n",
              "    </tr>\n",
              "    <tr>\n",
              "      <th>23</th>\n",
              "      <td>99.652126</td>\n",
              "      <td>76.655599</td>\n",
              "    </tr>\n",
              "    <tr>\n",
              "      <th>24</th>\n",
              "      <td>100.000000</td>\n",
              "      <td>87.426484</td>\n",
              "    </tr>\n",
              "    <tr>\n",
              "      <th>25</th>\n",
              "      <td>100.000000</td>\n",
              "      <td>77.948002</td>\n",
              "    </tr>\n",
              "    <tr>\n",
              "      <th>26</th>\n",
              "      <td>95.428983</td>\n",
              "      <td>82.143837</td>\n",
              "    </tr>\n",
              "    <tr>\n",
              "      <th>27</th>\n",
              "      <td>0.808625</td>\n",
              "      <td>78.152438</td>\n",
              "    </tr>\n",
              "    <tr>\n",
              "      <th>28</th>\n",
              "      <td>85.714286</td>\n",
              "      <td>86.638949</td>\n",
              "    </tr>\n",
              "    <tr>\n",
              "      <th>29</th>\n",
              "      <td>89.858012</td>\n",
              "      <td>82.739503</td>\n",
              "    </tr>\n",
              "    <tr>\n",
              "      <th>30</th>\n",
              "      <td>99.490940</td>\n",
              "      <td>83.084928</td>\n",
              "    </tr>\n",
              "    <tr>\n",
              "      <th>31</th>\n",
              "      <td>28.669154</td>\n",
              "      <td>86.400984</td>\n",
              "    </tr>\n",
              "    <tr>\n",
              "      <th>32</th>\n",
              "      <td>100.000000</td>\n",
              "      <td>88.942513</td>\n",
              "    </tr>\n",
              "    <tr>\n",
              "      <th>33</th>\n",
              "      <td>100.000000</td>\n",
              "      <td>90.978172</td>\n",
              "    </tr>\n",
              "    <tr>\n",
              "      <th>34</th>\n",
              "      <td>99.131944</td>\n",
              "      <td>85.273530</td>\n",
              "    </tr>\n",
              "    <tr>\n",
              "      <th>35</th>\n",
              "      <td>95.348837</td>\n",
              "      <td>79.608565</td>\n",
              "    </tr>\n",
              "    <tr>\n",
              "      <th>36</th>\n",
              "      <td>30.540496</td>\n",
              "      <td>87.274814</td>\n",
              "    </tr>\n",
              "    <tr>\n",
              "      <th>37</th>\n",
              "      <td>98.424370</td>\n",
              "      <td>88.466987</td>\n",
              "    </tr>\n",
              "    <tr>\n",
              "      <th>38</th>\n",
              "      <td>100.000000</td>\n",
              "      <td>92.323445</td>\n",
              "    </tr>\n",
              "    <tr>\n",
              "      <th>39</th>\n",
              "      <td>98.286140</td>\n",
              "      <td>86.902128</td>\n",
              "    </tr>\n",
              "    <tr>\n",
              "      <th>40</th>\n",
              "      <td>40.000000</td>\n",
              "      <td>85.655129</td>\n",
              "    </tr>\n",
              "    <tr>\n",
              "      <th>41</th>\n",
              "      <td>66.349810</td>\n",
              "      <td>83.406975</td>\n",
              "    </tr>\n",
              "    <tr>\n",
              "      <th>42</th>\n",
              "      <td>93.442623</td>\n",
              "      <td>81.733977</td>\n",
              "    </tr>\n",
              "    <tr>\n",
              "      <th>43</th>\n",
              "      <td>91.052632</td>\n",
              "      <td>80.633216</td>\n",
              "    </tr>\n",
              "    <tr>\n",
              "      <th>44</th>\n",
              "      <td>100.000000</td>\n",
              "      <td>86.338388</td>\n",
              "    </tr>\n",
              "    <tr>\n",
              "      <th>45</th>\n",
              "      <td>100.000000</td>\n",
              "      <td>85.801246</td>\n",
              "    </tr>\n",
              "    <tr>\n",
              "      <th>46</th>\n",
              "      <td>98.664441</td>\n",
              "      <td>88.441892</td>\n",
              "    </tr>\n",
              "    <tr>\n",
              "      <th>47</th>\n",
              "      <td>91.721311</td>\n",
              "      <td>90.643416</td>\n",
              "    </tr>\n",
              "    <tr>\n",
              "      <th>48</th>\n",
              "      <td>98.641975</td>\n",
              "      <td>88.272562</td>\n",
              "    </tr>\n",
              "    <tr>\n",
              "      <th>49</th>\n",
              "      <td>100.000000</td>\n",
              "      <td>88.146389</td>\n",
              "    </tr>\n",
              "    <tr>\n",
              "      <th>50</th>\n",
              "      <td>92.483960</td>\n",
              "      <td>81.600216</td>\n",
              "    </tr>\n",
              "    <tr>\n",
              "      <th>51</th>\n",
              "      <td>98.028169</td>\n",
              "      <td>84.886306</td>\n",
              "    </tr>\n",
              "    <tr>\n",
              "      <th>52</th>\n",
              "      <td>100.000000</td>\n",
              "      <td>76.158530</td>\n",
              "    </tr>\n",
              "    <tr>\n",
              "      <th>53</th>\n",
              "      <td>78.654527</td>\n",
              "      <td>83.114365</td>\n",
              "    </tr>\n",
              "    <tr>\n",
              "      <th>54</th>\n",
              "      <td>100.000000</td>\n",
              "      <td>88.113218</td>\n",
              "    </tr>\n",
              "    <tr>\n",
              "      <th>55</th>\n",
              "      <td>80.363636</td>\n",
              "      <td>85.877873</td>\n",
              "    </tr>\n",
              "  </tbody>\n",
              "</table>\n",
              "</div>"
            ],
            "text/plain": [
              "    valor_real  prediccion\n",
              "0     5.725971   82.251943\n",
              "1    90.693196   87.186435\n",
              "2   100.000000   85.439683\n",
              "3    24.429260   85.979821\n",
              "4    23.586957   80.740415\n",
              "5   100.000000   84.760120\n",
              "6   100.000000   89.651367\n",
              "7    79.865772   82.890734\n",
              "8   100.000000   83.167977\n",
              "9   100.000000   88.755305\n",
              "10  100.000000   90.400864\n",
              "11   93.198992   88.402176\n",
              "12  100.000000   90.653458\n",
              "13   99.783237   86.304067\n",
              "14   79.051775   81.858890\n",
              "15   99.574830   81.791301\n",
              "16   31.666667   86.030406\n",
              "17   66.760000   84.720367\n",
              "18   16.949153   90.380733\n",
              "19  100.000000   90.879259\n",
              "20  100.000000   84.037341\n",
              "21  100.000000   90.233596\n",
              "22   17.307692   85.320992\n",
              "23   99.652126   76.655599\n",
              "24  100.000000   87.426484\n",
              "25  100.000000   77.948002\n",
              "26   95.428983   82.143837\n",
              "27    0.808625   78.152438\n",
              "28   85.714286   86.638949\n",
              "29   89.858012   82.739503\n",
              "30   99.490940   83.084928\n",
              "31   28.669154   86.400984\n",
              "32  100.000000   88.942513\n",
              "33  100.000000   90.978172\n",
              "34   99.131944   85.273530\n",
              "35   95.348837   79.608565\n",
              "36   30.540496   87.274814\n",
              "37   98.424370   88.466987\n",
              "38  100.000000   92.323445\n",
              "39   98.286140   86.902128\n",
              "40   40.000000   85.655129\n",
              "41   66.349810   83.406975\n",
              "42   93.442623   81.733977\n",
              "43   91.052632   80.633216\n",
              "44  100.000000   86.338388\n",
              "45  100.000000   85.801246\n",
              "46   98.664441   88.441892\n",
              "47   91.721311   90.643416\n",
              "48   98.641975   88.272562\n",
              "49  100.000000   88.146389\n",
              "50   92.483960   81.600216\n",
              "51   98.028169   84.886306\n",
              "52  100.000000   76.158530\n",
              "53   78.654527   83.114365\n",
              "54  100.000000   88.113218\n",
              "55   80.363636   85.877873"
            ]
          },
          "metadata": {},
          "execution_count": 5
        }
      ]
    },
    {
      "cell_type": "markdown",
      "metadata": {
        "id": "ci0WlNYDWrMm"
      },
      "source": [
        "A pesar de que los modelos si mejoran dadas ciertas circunstancias, siguen siendo muy malos para la predicción, en donde la mayoría predice erróneamente por mucho un valor bajo en el porcentaje de cosecha. \\\\\n",
        "Ademas de que un análisis en conjunto seria muy difícil, ya que cada planta presenta un grado de regresión distinto, por lo que al menos con nuestra aproximación al problema, no se esperan resultados exitosos en la predicción por modelo lineal.\n"
      ]
    }
  ]
}