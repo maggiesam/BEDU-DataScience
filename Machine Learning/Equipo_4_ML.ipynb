{
  "nbformat": 4,
  "nbformat_minor": 0,
  "metadata": {
    "colab": {
      "name": "Equipo 4 ML.ipynb",
      "provenance": [],
      "authorship_tag": "ABX9TyP0u+ydvi4SSj3TIHFLNRtF",
      "include_colab_link": true
    },
    "kernelspec": {
      "name": "python3",
      "display_name": "Python 3"
    },
    "language_info": {
      "name": "python"
    }
  },
  "cells": [
    {
      "cell_type": "markdown",
      "metadata": {
        "id": "view-in-github",
        "colab_type": "text"
      },
      "source": [
        "<a href=\"https://colab.research.google.com/github/maggiesam/BEDU-DataScience/blob/main/Machine%20Learning/Equipo_4_ML.ipynb\" target=\"_parent\"><img src=\"https://colab.research.google.com/assets/colab-badge.svg\" alt=\"Open In Colab\"/></a>"
      ]
    },
    {
      "cell_type": "markdown",
      "metadata": {
        "id": "XmiL23YmN5Gq"
      },
      "source": [
        "# K-Means"
      ]
    },
    {
      "cell_type": "code",
      "metadata": {
        "id": "a5y-7AxpQh2V"
      },
      "source": [
        "from sklearn.preprocessing import StandardScaler\n",
        "import pandas as pd\n",
        "import seaborn as sns\n",
        "import matplotlib.pyplot as plt"
      ],
      "execution_count": null,
      "outputs": []
    },
    {
      "cell_type": "code",
      "metadata": {
        "id": "hWHRDraP-e4i"
      },
      "source": [
        "data = pd.read_csv('https://raw.githubusercontent.com/maggiesam/BEDU-DataScience/main/Datasets/dataframe-junto.csv', index_col=0)\n",
        "df = data.copy() "
      ],
      "execution_count": null,
      "outputs": []
    },
    {
      "cell_type": "code",
      "metadata": {
        "colab": {
          "base_uri": "https://localhost:8080/",
          "height": 424
        },
        "id": "5M5SUxZ4TyP7",
        "outputId": "6f56d01e-2fd1-413e-b204-849f47a5cfb1"
      },
      "source": [
        "data"
      ],
      "execution_count": null,
      "outputs": [
        {
          "output_type": "execute_result",
          "data": {
            "text/html": [
              "<div>\n",
              "<style scoped>\n",
              "    .dataframe tbody tr th:only-of-type {\n",
              "        vertical-align: middle;\n",
              "    }\n",
              "\n",
              "    .dataframe tbody tr th {\n",
              "        vertical-align: top;\n",
              "    }\n",
              "\n",
              "    .dataframe thead th {\n",
              "        text-align: right;\n",
              "    }\n",
              "</style>\n",
              "<table border=\"1\" class=\"dataframe\">\n",
              "  <thead>\n",
              "    <tr style=\"text-align: right;\">\n",
              "      <th></th>\n",
              "      <th>ENTIDAD</th>\n",
              "      <th>Mes</th>\n",
              "      <th>Año</th>\n",
              "      <th>Tipo_sequia</th>\n",
              "      <th>Precipitacion</th>\n",
              "      <th>Temperatura_promedio</th>\n",
              "      <th>Temperatura_maxima</th>\n",
              "      <th>Temperatura_minima</th>\n",
              "      <th>Sembrada_ha</th>\n",
              "      <th>Cosechada_ha</th>\n",
              "      <th>perdida_ha</th>\n",
              "      <th>producto</th>\n",
              "    </tr>\n",
              "  </thead>\n",
              "  <tbody>\n",
              "    <tr>\n",
              "      <th>0</th>\n",
              "      <td>Aguascalientes</td>\n",
              "      <td>1</td>\n",
              "      <td>2005</td>\n",
              "      <td>NPS</td>\n",
              "      <td>0.0</td>\n",
              "      <td>12.699696</td>\n",
              "      <td>22.643727</td>\n",
              "      <td>2.755665</td>\n",
              "      <td>47286</td>\n",
              "      <td>43031</td>\n",
              "      <td>4255</td>\n",
              "      <td>maiz</td>\n",
              "    </tr>\n",
              "    <tr>\n",
              "      <th>1</th>\n",
              "      <td>Aguascalientes</td>\n",
              "      <td>1</td>\n",
              "      <td>2005</td>\n",
              "      <td>NPS</td>\n",
              "      <td>0.0</td>\n",
              "      <td>12.699696</td>\n",
              "      <td>22.643727</td>\n",
              "      <td>2.755665</td>\n",
              "      <td>11950</td>\n",
              "      <td>10570</td>\n",
              "      <td>1380</td>\n",
              "      <td>frijol</td>\n",
              "    </tr>\n",
              "    <tr>\n",
              "      <th>2</th>\n",
              "      <td>Aguascalientes</td>\n",
              "      <td>1</td>\n",
              "      <td>2006</td>\n",
              "      <td>D0</td>\n",
              "      <td>4.8</td>\n",
              "      <td>13.128922</td>\n",
              "      <td>24.114734</td>\n",
              "      <td>2.143109</td>\n",
              "      <td>39600</td>\n",
              "      <td>17684</td>\n",
              "      <td>21916</td>\n",
              "      <td>maiz</td>\n",
              "    </tr>\n",
              "    <tr>\n",
              "      <th>3</th>\n",
              "      <td>Aguascalientes</td>\n",
              "      <td>1</td>\n",
              "      <td>2006</td>\n",
              "      <td>D0</td>\n",
              "      <td>4.8</td>\n",
              "      <td>13.128922</td>\n",
              "      <td>24.114734</td>\n",
              "      <td>2.143109</td>\n",
              "      <td>10819</td>\n",
              "      <td>6602</td>\n",
              "      <td>4217</td>\n",
              "      <td>frijol</td>\n",
              "    </tr>\n",
              "    <tr>\n",
              "      <th>4</th>\n",
              "      <td>Aguascalientes</td>\n",
              "      <td>1</td>\n",
              "      <td>2007</td>\n",
              "      <td>NPS</td>\n",
              "      <td>17.2</td>\n",
              "      <td>13.320241</td>\n",
              "      <td>21.932079</td>\n",
              "      <td>4.860635</td>\n",
              "      <td>37727</td>\n",
              "      <td>31610</td>\n",
              "      <td>6117</td>\n",
              "      <td>maiz</td>\n",
              "    </tr>\n",
              "    <tr>\n",
              "      <th>...</th>\n",
              "      <td>...</td>\n",
              "      <td>...</td>\n",
              "      <td>...</td>\n",
              "      <td>...</td>\n",
              "      <td>...</td>\n",
              "      <td>...</td>\n",
              "      <td>...</td>\n",
              "      <td>...</td>\n",
              "      <td>...</td>\n",
              "      <td>...</td>\n",
              "      <td>...</td>\n",
              "      <td>...</td>\n",
              "    </tr>\n",
              "    <tr>\n",
              "      <th>12083</th>\n",
              "      <td>Zacatecas</td>\n",
              "      <td>11</td>\n",
              "      <td>2019</td>\n",
              "      <td>NPS</td>\n",
              "      <td>49.9</td>\n",
              "      <td>16.500000</td>\n",
              "      <td>24.200000</td>\n",
              "      <td>8.700000</td>\n",
              "      <td>116231</td>\n",
              "      <td>19604</td>\n",
              "      <td>96627</td>\n",
              "      <td>maiz</td>\n",
              "    </tr>\n",
              "    <tr>\n",
              "      <th>12084</th>\n",
              "      <td>Zacatecas</td>\n",
              "      <td>11</td>\n",
              "      <td>2019</td>\n",
              "      <td>NPS</td>\n",
              "      <td>49.9</td>\n",
              "      <td>16.500000</td>\n",
              "      <td>24.200000</td>\n",
              "      <td>8.700000</td>\n",
              "      <td>503813</td>\n",
              "      <td>242613</td>\n",
              "      <td>261200</td>\n",
              "      <td>frijol</td>\n",
              "    </tr>\n",
              "    <tr>\n",
              "      <th>12085</th>\n",
              "      <td>Zacatecas</td>\n",
              "      <td>11</td>\n",
              "      <td>2020</td>\n",
              "      <td>D0</td>\n",
              "      <td>0.0</td>\n",
              "      <td>16.300000</td>\n",
              "      <td>26.800000</td>\n",
              "      <td>5.900000</td>\n",
              "      <td>174370</td>\n",
              "      <td>72067</td>\n",
              "      <td>102303</td>\n",
              "      <td>maiz</td>\n",
              "    </tr>\n",
              "    <tr>\n",
              "      <th>12086</th>\n",
              "      <td>Zacatecas</td>\n",
              "      <td>11</td>\n",
              "      <td>2020</td>\n",
              "      <td>D0</td>\n",
              "      <td>0.0</td>\n",
              "      <td>16.300000</td>\n",
              "      <td>26.800000</td>\n",
              "      <td>5.900000</td>\n",
              "      <td>635812</td>\n",
              "      <td>489631</td>\n",
              "      <td>146181</td>\n",
              "      <td>frijol</td>\n",
              "    </tr>\n",
              "    <tr>\n",
              "      <th>12087</th>\n",
              "      <td>Zacatecas</td>\n",
              "      <td>11</td>\n",
              "      <td>2020</td>\n",
              "      <td>D0</td>\n",
              "      <td>0.0</td>\n",
              "      <td>16.300000</td>\n",
              "      <td>26.800000</td>\n",
              "      <td>5.900000</td>\n",
              "      <td>7430</td>\n",
              "      <td>50</td>\n",
              "      <td>7380</td>\n",
              "      <td>trigo</td>\n",
              "    </tr>\n",
              "  </tbody>\n",
              "</table>\n",
              "<p>12088 rows × 12 columns</p>\n",
              "</div>"
            ],
            "text/plain": [
              "              ENTIDAD  Mes   Año  ... Cosechada_ha  perdida_ha  producto\n",
              "0      Aguascalientes    1  2005  ...        43031        4255      maiz\n",
              "1      Aguascalientes    1  2005  ...        10570        1380    frijol\n",
              "2      Aguascalientes    1  2006  ...        17684       21916      maiz\n",
              "3      Aguascalientes    1  2006  ...         6602        4217    frijol\n",
              "4      Aguascalientes    1  2007  ...        31610        6117      maiz\n",
              "...               ...  ...   ...  ...          ...         ...       ...\n",
              "12083       Zacatecas   11  2019  ...        19604       96627      maiz\n",
              "12084       Zacatecas   11  2019  ...       242613      261200    frijol\n",
              "12085       Zacatecas   11  2020  ...        72067      102303      maiz\n",
              "12086       Zacatecas   11  2020  ...       489631      146181    frijol\n",
              "12087       Zacatecas   11  2020  ...           50        7380     trigo\n",
              "\n",
              "[12088 rows x 12 columns]"
            ]
          },
          "metadata": {},
          "execution_count": 83
        }
      ]
    },
    {
      "cell_type": "code",
      "metadata": {
        "colab": {
          "base_uri": "https://localhost:8080/"
        },
        "id": "U87TcdKJOp-w",
        "outputId": "7913c143-5428-4483-fb1c-bf025de060a1"
      },
      "source": [
        "df['producto'].unique()"
      ],
      "execution_count": null,
      "outputs": [
        {
          "output_type": "execute_result",
          "data": {
            "text/plain": [
              "array(['maiz', 'frijol', 'trigo'], dtype=object)"
            ]
          },
          "metadata": {},
          "execution_count": 73
        }
      ]
    },
    {
      "cell_type": "code",
      "metadata": {
        "id": "jf6dGjZ5-jXC"
      },
      "source": [
        "mapping = {'NPS':-1, 'D0':0, 'D1':1, 'D2':2, 'D3':3, 'D4':4}\n",
        "df['Tipo_sequia'] = df['Tipo_sequia'].map(mapping)"
      ],
      "execution_count": null,
      "outputs": []
    },
    {
      "cell_type": "code",
      "metadata": {
        "id": "ESIcLg9ZOsGH"
      },
      "source": [
        "mapping = {'maiz':1, 'frijol':2, 'trigo':3}\n",
        "df['producto'] = df['producto'].map(mapping)"
      ],
      "execution_count": null,
      "outputs": []
    },
    {
      "cell_type": "code",
      "metadata": {
        "colab": {
          "base_uri": "https://localhost:8080/",
          "height": 424
        },
        "id": "JacsZ1mUQSs-",
        "outputId": "b51b3fce-6fe7-4186-cf55-094892ae623d"
      },
      "source": [
        "df"
      ],
      "execution_count": null,
      "outputs": [
        {
          "output_type": "execute_result",
          "data": {
            "text/html": [
              "<div>\n",
              "<style scoped>\n",
              "    .dataframe tbody tr th:only-of-type {\n",
              "        vertical-align: middle;\n",
              "    }\n",
              "\n",
              "    .dataframe tbody tr th {\n",
              "        vertical-align: top;\n",
              "    }\n",
              "\n",
              "    .dataframe thead th {\n",
              "        text-align: right;\n",
              "    }\n",
              "</style>\n",
              "<table border=\"1\" class=\"dataframe\">\n",
              "  <thead>\n",
              "    <tr style=\"text-align: right;\">\n",
              "      <th></th>\n",
              "      <th>ENTIDAD</th>\n",
              "      <th>Mes</th>\n",
              "      <th>Año</th>\n",
              "      <th>Tipo_sequia</th>\n",
              "      <th>Precipitacion</th>\n",
              "      <th>Temperatura_promedio</th>\n",
              "      <th>Temperatura_maxima</th>\n",
              "      <th>Temperatura_minima</th>\n",
              "      <th>Sembrada_ha</th>\n",
              "      <th>Cosechada_ha</th>\n",
              "      <th>perdida_ha</th>\n",
              "      <th>producto</th>\n",
              "    </tr>\n",
              "  </thead>\n",
              "  <tbody>\n",
              "    <tr>\n",
              "      <th>0</th>\n",
              "      <td>Aguascalientes</td>\n",
              "      <td>1</td>\n",
              "      <td>2005</td>\n",
              "      <td>0</td>\n",
              "      <td>0.0</td>\n",
              "      <td>12.699696</td>\n",
              "      <td>22.643727</td>\n",
              "      <td>2.755665</td>\n",
              "      <td>47286</td>\n",
              "      <td>43031</td>\n",
              "      <td>4255</td>\n",
              "      <td>1</td>\n",
              "    </tr>\n",
              "    <tr>\n",
              "      <th>1</th>\n",
              "      <td>Aguascalientes</td>\n",
              "      <td>1</td>\n",
              "      <td>2005</td>\n",
              "      <td>0</td>\n",
              "      <td>0.0</td>\n",
              "      <td>12.699696</td>\n",
              "      <td>22.643727</td>\n",
              "      <td>2.755665</td>\n",
              "      <td>11950</td>\n",
              "      <td>10570</td>\n",
              "      <td>1380</td>\n",
              "      <td>2</td>\n",
              "    </tr>\n",
              "    <tr>\n",
              "      <th>2</th>\n",
              "      <td>Aguascalientes</td>\n",
              "      <td>1</td>\n",
              "      <td>2006</td>\n",
              "      <td>1</td>\n",
              "      <td>4.8</td>\n",
              "      <td>13.128922</td>\n",
              "      <td>24.114734</td>\n",
              "      <td>2.143109</td>\n",
              "      <td>39600</td>\n",
              "      <td>17684</td>\n",
              "      <td>21916</td>\n",
              "      <td>1</td>\n",
              "    </tr>\n",
              "    <tr>\n",
              "      <th>3</th>\n",
              "      <td>Aguascalientes</td>\n",
              "      <td>1</td>\n",
              "      <td>2006</td>\n",
              "      <td>1</td>\n",
              "      <td>4.8</td>\n",
              "      <td>13.128922</td>\n",
              "      <td>24.114734</td>\n",
              "      <td>2.143109</td>\n",
              "      <td>10819</td>\n",
              "      <td>6602</td>\n",
              "      <td>4217</td>\n",
              "      <td>2</td>\n",
              "    </tr>\n",
              "    <tr>\n",
              "      <th>4</th>\n",
              "      <td>Aguascalientes</td>\n",
              "      <td>1</td>\n",
              "      <td>2007</td>\n",
              "      <td>0</td>\n",
              "      <td>17.2</td>\n",
              "      <td>13.320241</td>\n",
              "      <td>21.932079</td>\n",
              "      <td>4.860635</td>\n",
              "      <td>37727</td>\n",
              "      <td>31610</td>\n",
              "      <td>6117</td>\n",
              "      <td>1</td>\n",
              "    </tr>\n",
              "    <tr>\n",
              "      <th>...</th>\n",
              "      <td>...</td>\n",
              "      <td>...</td>\n",
              "      <td>...</td>\n",
              "      <td>...</td>\n",
              "      <td>...</td>\n",
              "      <td>...</td>\n",
              "      <td>...</td>\n",
              "      <td>...</td>\n",
              "      <td>...</td>\n",
              "      <td>...</td>\n",
              "      <td>...</td>\n",
              "      <td>...</td>\n",
              "    </tr>\n",
              "    <tr>\n",
              "      <th>12083</th>\n",
              "      <td>Zacatecas</td>\n",
              "      <td>11</td>\n",
              "      <td>2019</td>\n",
              "      <td>0</td>\n",
              "      <td>49.9</td>\n",
              "      <td>16.500000</td>\n",
              "      <td>24.200000</td>\n",
              "      <td>8.700000</td>\n",
              "      <td>116231</td>\n",
              "      <td>19604</td>\n",
              "      <td>96627</td>\n",
              "      <td>1</td>\n",
              "    </tr>\n",
              "    <tr>\n",
              "      <th>12084</th>\n",
              "      <td>Zacatecas</td>\n",
              "      <td>11</td>\n",
              "      <td>2019</td>\n",
              "      <td>0</td>\n",
              "      <td>49.9</td>\n",
              "      <td>16.500000</td>\n",
              "      <td>24.200000</td>\n",
              "      <td>8.700000</td>\n",
              "      <td>503813</td>\n",
              "      <td>242613</td>\n",
              "      <td>261200</td>\n",
              "      <td>2</td>\n",
              "    </tr>\n",
              "    <tr>\n",
              "      <th>12085</th>\n",
              "      <td>Zacatecas</td>\n",
              "      <td>11</td>\n",
              "      <td>2020</td>\n",
              "      <td>1</td>\n",
              "      <td>0.0</td>\n",
              "      <td>16.300000</td>\n",
              "      <td>26.800000</td>\n",
              "      <td>5.900000</td>\n",
              "      <td>174370</td>\n",
              "      <td>72067</td>\n",
              "      <td>102303</td>\n",
              "      <td>1</td>\n",
              "    </tr>\n",
              "    <tr>\n",
              "      <th>12086</th>\n",
              "      <td>Zacatecas</td>\n",
              "      <td>11</td>\n",
              "      <td>2020</td>\n",
              "      <td>1</td>\n",
              "      <td>0.0</td>\n",
              "      <td>16.300000</td>\n",
              "      <td>26.800000</td>\n",
              "      <td>5.900000</td>\n",
              "      <td>635812</td>\n",
              "      <td>489631</td>\n",
              "      <td>146181</td>\n",
              "      <td>2</td>\n",
              "    </tr>\n",
              "    <tr>\n",
              "      <th>12087</th>\n",
              "      <td>Zacatecas</td>\n",
              "      <td>11</td>\n",
              "      <td>2020</td>\n",
              "      <td>1</td>\n",
              "      <td>0.0</td>\n",
              "      <td>16.300000</td>\n",
              "      <td>26.800000</td>\n",
              "      <td>5.900000</td>\n",
              "      <td>7430</td>\n",
              "      <td>50</td>\n",
              "      <td>7380</td>\n",
              "      <td>3</td>\n",
              "    </tr>\n",
              "  </tbody>\n",
              "</table>\n",
              "<p>12088 rows × 12 columns</p>\n",
              "</div>"
            ],
            "text/plain": [
              "              ENTIDAD  Mes   Año  ...  Cosechada_ha  perdida_ha  producto\n",
              "0      Aguascalientes    1  2005  ...         43031        4255         1\n",
              "1      Aguascalientes    1  2005  ...         10570        1380         2\n",
              "2      Aguascalientes    1  2006  ...         17684       21916         1\n",
              "3      Aguascalientes    1  2006  ...          6602        4217         2\n",
              "4      Aguascalientes    1  2007  ...         31610        6117         1\n",
              "...               ...  ...   ...  ...           ...         ...       ...\n",
              "12083       Zacatecas   11  2019  ...         19604       96627         1\n",
              "12084       Zacatecas   11  2019  ...        242613      261200         2\n",
              "12085       Zacatecas   11  2020  ...         72067      102303         1\n",
              "12086       Zacatecas   11  2020  ...        489631      146181         2\n",
              "12087       Zacatecas   11  2020  ...            50        7380         3\n",
              "\n",
              "[12088 rows x 12 columns]"
            ]
          },
          "metadata": {},
          "execution_count": 88
        }
      ]
    },
    {
      "cell_type": "code",
      "metadata": {
        "id": "Rg0X-45bQVkH"
      },
      "source": [
        "std_scaler = StandardScaler()\n",
        "data_cluster = df.iloc[:,3:]\n",
        "data_cluster[data_cluster.columns] = std_scaler.fit_transform(data_cluster)"
      ],
      "execution_count": null,
      "outputs": []
    },
    {
      "cell_type": "code",
      "metadata": {
        "colab": {
          "base_uri": "https://localhost:8080/",
          "height": 424
        },
        "id": "F6dwGIBeTlSo",
        "outputId": "8432a548-7633-408a-c579-9a1f782ae1a1"
      },
      "source": [
        "data_cluster"
      ],
      "execution_count": null,
      "outputs": [
        {
          "output_type": "execute_result",
          "data": {
            "text/html": [
              "<div>\n",
              "<style scoped>\n",
              "    .dataframe tbody tr th:only-of-type {\n",
              "        vertical-align: middle;\n",
              "    }\n",
              "\n",
              "    .dataframe tbody tr th {\n",
              "        vertical-align: top;\n",
              "    }\n",
              "\n",
              "    .dataframe thead th {\n",
              "        text-align: right;\n",
              "    }\n",
              "</style>\n",
              "<table border=\"1\" class=\"dataframe\">\n",
              "  <thead>\n",
              "    <tr style=\"text-align: right;\">\n",
              "      <th></th>\n",
              "      <th>Tipo_sequia</th>\n",
              "      <th>Precipitacion</th>\n",
              "      <th>Temperatura_promedio</th>\n",
              "      <th>Temperatura_maxima</th>\n",
              "      <th>Temperatura_minima</th>\n",
              "      <th>Sembrada_ha</th>\n",
              "      <th>Cosechada_ha</th>\n",
              "      <th>perdida_ha</th>\n",
              "      <th>producto</th>\n",
              "    </tr>\n",
              "  </thead>\n",
              "  <tbody>\n",
              "    <tr>\n",
              "      <th>0</th>\n",
              "      <td>-0.628916</td>\n",
              "      <td>-0.820044</td>\n",
              "      <td>-1.830640</td>\n",
              "      <td>-1.446769</td>\n",
              "      <td>-2.010085</td>\n",
              "      <td>-0.054079</td>\n",
              "      <td>0.182410</td>\n",
              "      <td>-0.263735</td>\n",
              "      <td>-1.083748</td>\n",
              "    </tr>\n",
              "    <tr>\n",
              "      <th>1</th>\n",
              "      <td>-0.628916</td>\n",
              "      <td>-0.820044</td>\n",
              "      <td>-1.830640</td>\n",
              "      <td>-1.446769</td>\n",
              "      <td>-2.010085</td>\n",
              "      <td>-0.350458</td>\n",
              "      <td>-0.230729</td>\n",
              "      <td>-0.300224</td>\n",
              "      <td>0.247318</td>\n",
              "    </tr>\n",
              "    <tr>\n",
              "      <th>2</th>\n",
              "      <td>0.418959</td>\n",
              "      <td>-0.772973</td>\n",
              "      <td>-1.744545</td>\n",
              "      <td>-1.107579</td>\n",
              "      <td>-2.112740</td>\n",
              "      <td>-0.118545</td>\n",
              "      <td>-0.140187</td>\n",
              "      <td>-0.039584</td>\n",
              "      <td>-1.083748</td>\n",
              "    </tr>\n",
              "    <tr>\n",
              "      <th>3</th>\n",
              "      <td>0.418959</td>\n",
              "      <td>-0.772973</td>\n",
              "      <td>-1.744545</td>\n",
              "      <td>-1.107579</td>\n",
              "      <td>-2.112740</td>\n",
              "      <td>-0.359944</td>\n",
              "      <td>-0.281230</td>\n",
              "      <td>-0.264217</td>\n",
              "      <td>0.247318</td>\n",
              "    </tr>\n",
              "    <tr>\n",
              "      <th>4</th>\n",
              "      <td>-0.628916</td>\n",
              "      <td>-0.651373</td>\n",
              "      <td>-1.706169</td>\n",
              "      <td>-1.610863</td>\n",
              "      <td>-1.657325</td>\n",
              "      <td>-0.134254</td>\n",
              "      <td>0.037053</td>\n",
              "      <td>-0.240102</td>\n",
              "      <td>-1.083748</td>\n",
              "    </tr>\n",
              "    <tr>\n",
              "      <th>...</th>\n",
              "      <td>...</td>\n",
              "      <td>...</td>\n",
              "      <td>...</td>\n",
              "      <td>...</td>\n",
              "      <td>...</td>\n",
              "      <td>...</td>\n",
              "      <td>...</td>\n",
              "      <td>...</td>\n",
              "      <td>...</td>\n",
              "    </tr>\n",
              "    <tr>\n",
              "      <th>12083</th>\n",
              "      <td>-0.628916</td>\n",
              "      <td>-0.330703</td>\n",
              "      <td>-1.068359</td>\n",
              "      <td>-1.087918</td>\n",
              "      <td>-1.013908</td>\n",
              "      <td>0.524194</td>\n",
              "      <td>-0.115751</td>\n",
              "      <td>0.908636</td>\n",
              "      <td>-1.083748</td>\n",
              "    </tr>\n",
              "    <tr>\n",
              "      <th>12084</th>\n",
              "      <td>-0.628916</td>\n",
              "      <td>-0.330703</td>\n",
              "      <td>-1.068359</td>\n",
              "      <td>-1.087918</td>\n",
              "      <td>-1.013908</td>\n",
              "      <td>3.775022</td>\n",
              "      <td>2.722540</td>\n",
              "      <td>2.997371</td>\n",
              "      <td>0.247318</td>\n",
              "    </tr>\n",
              "    <tr>\n",
              "      <th>12085</th>\n",
              "      <td>0.418959</td>\n",
              "      <td>-0.820044</td>\n",
              "      <td>-1.108476</td>\n",
              "      <td>-0.488401</td>\n",
              "      <td>-1.483144</td>\n",
              "      <td>1.011833</td>\n",
              "      <td>0.551959</td>\n",
              "      <td>0.980675</td>\n",
              "      <td>-1.083748</td>\n",
              "    </tr>\n",
              "    <tr>\n",
              "      <th>12086</th>\n",
              "      <td>0.418959</td>\n",
              "      <td>-0.820044</td>\n",
              "      <td>-1.108476</td>\n",
              "      <td>-0.488401</td>\n",
              "      <td>-1.483144</td>\n",
              "      <td>4.882157</td>\n",
              "      <td>5.866398</td>\n",
              "      <td>1.537568</td>\n",
              "      <td>0.247318</td>\n",
              "    </tr>\n",
              "    <tr>\n",
              "      <th>12087</th>\n",
              "      <td>0.418959</td>\n",
              "      <td>-0.820044</td>\n",
              "      <td>-1.108476</td>\n",
              "      <td>-0.488401</td>\n",
              "      <td>-1.483144</td>\n",
              "      <td>-0.388369</td>\n",
              "      <td>-0.364619</td>\n",
              "      <td>-0.224073</td>\n",
              "      <td>1.578384</td>\n",
              "    </tr>\n",
              "  </tbody>\n",
              "</table>\n",
              "<p>12088 rows × 9 columns</p>\n",
              "</div>"
            ],
            "text/plain": [
              "       Tipo_sequia  Precipitacion  ...  perdida_ha  producto\n",
              "0        -0.628916      -0.820044  ...   -0.263735 -1.083748\n",
              "1        -0.628916      -0.820044  ...   -0.300224  0.247318\n",
              "2         0.418959      -0.772973  ...   -0.039584 -1.083748\n",
              "3         0.418959      -0.772973  ...   -0.264217  0.247318\n",
              "4        -0.628916      -0.651373  ...   -0.240102 -1.083748\n",
              "...            ...            ...  ...         ...       ...\n",
              "12083    -0.628916      -0.330703  ...    0.908636 -1.083748\n",
              "12084    -0.628916      -0.330703  ...    2.997371  0.247318\n",
              "12085     0.418959      -0.820044  ...    0.980675 -1.083748\n",
              "12086     0.418959      -0.820044  ...    1.537568  0.247318\n",
              "12087     0.418959      -0.820044  ...   -0.224073  1.578384\n",
              "\n",
              "[12088 rows x 9 columns]"
            ]
          },
          "metadata": {},
          "execution_count": 131
        }
      ]
    },
    {
      "cell_type": "code",
      "metadata": {
        "id": "d9G95kQXXIy3"
      },
      "source": [
        "from sklearn.decomposition import PCA\n",
        "import numpy as np\n",
        "pca_2 = PCA(2)\n",
        "pca_2_resultados = pca_2.fit_transform(data_cluster)"
      ],
      "execution_count": null,
      "outputs": []
    },
    {
      "cell_type": "code",
      "metadata": {
        "colab": {
          "base_uri": "https://localhost:8080/"
        },
        "id": "EBT6Z_LKXK-h",
        "outputId": "8b2f0cc6-e5df-45b5-a69e-2a91097b28b9"
      },
      "source": [
        "print(\"Varianza acumulada explicada por mis dos nuevas variables: {:.2%}\".format(np.sum(pca_2.explained_variance_ratio_)))"
      ],
      "execution_count": null,
      "outputs": [
        {
          "output_type": "stream",
          "name": "stdout",
          "text": [
            "Varianza acumulada explicada por mis dos nuevas variables: 61.44%\n"
          ]
        }
      ]
    },
    {
      "cell_type": "code",
      "metadata": {
        "colab": {
          "base_uri": "https://localhost:8080/",
          "height": 355
        },
        "id": "L8TjMt5eYVA0",
        "outputId": "427199c9-bfbe-4665-cb86-d60b1e1544b3"
      },
      "source": [
        "sns.set(style=\"white\", rc={\"figure.figsize\":(12,5)})\n",
        "\n",
        "plt.scatter(x=pca_2_resultados[:,0], y=pca_2_resultados[:,1], color='black')\n",
        "plt.xlabel(\"Componente principal 1\")\n",
        "plt.ylabel(\"Componente principal 2\")\n",
        "plt.title(\"13 varibles de calidad de vino redcida a unicamente 2 dimensiones\")\n",
        "\n",
        "plt.show()"
      ],
      "execution_count": null,
      "outputs": [
        {
          "output_type": "display_data",
          "data": {
            "image/png": "[encoded data removed]",
            "text/plain": [
              "<Figure size 864x360 with 1 Axes>"
            ]
          },
          "metadata": {}
        }
      ]
    },
    {
      "cell_type": "code",
      "metadata": {
        "id": "AV8fXQx5YbOY"
      },
      "source": [
        "from sklearn.metrics import silhouette_score\n",
        "import sklearn.cluster as cluster\n",
        "\n",
        "inertia = []\n",
        "for i in range(1,10):\n",
        "  kmeans = cluster.KMeans(n_clusters=i, init=\"k-means++\", random_state=18)\n",
        "  kmeans.fit(data_cluster)\n",
        "  inertia.append(kmeans.inertia_)"
      ],
      "execution_count": null,
      "outputs": []
    },
    {
      "cell_type": "code",
      "metadata": {
        "id": "dLPqHMzCYcSo"
      },
      "source": [
        "from sklearn.metrics import silhouette_score\n",
        "\n",
        "silhouette = {}\n",
        "for i in range(2,10):\n",
        "    kmeans = cluster.KMeans(n_clusters=i,init='k-means++', n_init=15, max_iter=500,random_state=18)\n",
        "    kmeans.fit(data_cluster)\n",
        "    silhouette[i] = silhouette_score(data_cluster, kmeans.labels_, metric='euclidean')"
      ],
      "execution_count": null,
      "outputs": []
    },
    {
      "cell_type": "code",
      "metadata": {
        "colab": {
          "base_uri": "https://localhost:8080/",
          "height": 355
        },
        "id": "KHLu46o9YfGb",
        "outputId": "885a3c4a-08c2-4342-cc4b-d512e3436c9c"
      },
      "source": [
        "# Vamos a graficar el metodo del codo y su complementario\n",
        "sns.set(style=\"white\", rc={\"figure.figsize\":(12,5)})\n",
        "plt.subplot(1,2,1)\n",
        "\n",
        "plt.plot(range(2,len(inertia)+2), inertia, marker=\"o\", color =\"red\")\n",
        "plt.xlabel(\"numero de clusters\")\n",
        "plt.title(\"Metodo del codo\")\n",
        "plt.grid(True)\n",
        "\n",
        "plt.subplot(1,2,2)\n",
        "\n",
        "\n",
        "plt.bar(range(len(silhouette)), list(silhouette.values()), align =\"center\", color =\"red\")\n",
        "plt.xticks(range(len(silhouette)), list(silhouette.keys()))\n",
        "plt.title(\"Score del metodo de la silueta\", fontweight = \"bold\")\n",
        "plt.xlabel(\"Número de clusters\")\n",
        "\n",
        "plt.show()\n",
        "# Elegimos la barra mas grande en la silueta y el punto donde se separa poco en el metodo del codo\n",
        "# en este caso el mejor numero de cluster es 3"
      ],
      "execution_count": null,
      "outputs": [
        {
          "output_type": "display_data",
          "data": {
            "image/png": "[encoded data removed]",
            "text/plain": [
              "<Figure size 864x360 with 2 Axes>"
            ]
          },
          "metadata": {}
        }
      ]
    },
    {
      "cell_type": "code",
      "metadata": {
        "id": "bxu8Ehv6YkqO"
      },
      "source": [
        "kmeans = cluster.KMeans(n_clusters=4, random_state=84, init=\"k-means++\")\n",
        "kmeans_labels = kmeans.fit_predict(data_cluster)\n",
        "\n",
        "centroids = kmeans.cluster_centers_\n",
        "centroides_pca = pca_2.transform(centroids)"
      ],
      "execution_count": null,
      "outputs": []
    },
    {
      "cell_type": "code",
      "metadata": {
        "colab": {
          "base_uri": "https://localhost:8080/",
          "height": 1000
        },
        "id": "A0viwGZ8YnZ9",
        "outputId": "613790d4-9810-4d76-db50-01a2cd00e303"
      },
      "source": [
        "data2 = df.iloc[:, 3:].copy()\n",
        "data2['Cluster'] = kmeans_labels\n",
        "\n",
        "aux = data2.columns.tolist()\n",
        "aux[0:len(aux)-1]\n",
        "\n",
        "for cluster in aux[0:len(aux)-1]:\n",
        "  grid = sns.FacetGrid(data2, col=\"Cluster\")\n",
        "  grid.map(plt.hist, cluster, color='red')"
      ],
      "execution_count": null,
      "outputs": [
        {
          "output_type": "display_data",
          "data": {
            "image/png": "[encoded data removed]",
            "text/plain": [
              "<Figure size 648x216 with 3 Axes>"
            ]
          },
          "metadata": {}
        },
        {
          "output_type": "display_data",
          "data": {
            "image/png": "[encoded data removed]",
            "text/plain": [
              "<Figure size 648x216 with 3 Axes>"
            ]
          },
          "metadata": {}
        },
        {
          "output_type": "display_data",
          "data": {
            "image/png": "[encoded data removed]",
            "text/plain": [
              "<Figure size 648x216 with 3 Axes>"
            ]
          },
          "metadata": {}
        },
        {
          "output_type": "display_data",
          "data": {
            "image/png": "[encoded data removed]",
            "text/plain": [
              "<Figure size 648x216 with 3 Axes>"
            ]
          },
          "metadata": {}
        },
        {
          "output_type": "display_data",
          "data": {
            "image/png": "[encoded data removed]",
            "text/plain": [
              "<Figure size 648x216 with 3 Axes>"
            ]
          },
          "metadata": {}
        },
        {
          "output_type": "display_data",
          "data": {
            "image/png": "[encoded data removed]",
            "text/plain": [
              "<Figure size 648x216 with 3 Axes>"
            ]
          },
          "metadata": {}
        },
        {
          "output_type": "display_data",
          "data": {
            "image/png": "[encoded data removed]",
            "text/plain": [
              "<Figure size 648x216 with 3 Axes>"
            ]
          },
          "metadata": {}
        },
        {
          "output_type": "display_data",
          "data": {
            "image/png": "[encoded data removed]",
            "text/plain": [
              "<Figure size 648x216 with 3 Axes>"
            ]
          },
          "metadata": {}
        },
        {
          "output_type": "display_data",
          "data": {
            "image/png": "[encoded data removed]",
            "text/plain": [
              "<Figure size 648x216 with 3 Axes>"
            ]
          },
          "metadata": {}
        }
      ]
    },
    {
      "cell_type": "code",
      "metadata": {
        "colab": {
          "base_uri": "https://localhost:8080/",
          "height": 410
        },
        "id": "ldz6xbcwYzzl",
        "outputId": "b8def191-992d-4323-cb23-1b1d8f6bda7d"
      },
      "source": [
        "sns.set(style=\"white\", rc={\"figure.figsize\":(9,6)})\n",
        "\n",
        "plt.scatter(x=pca_2_resultados[:,0], y=pca_2_resultados[:,1], c=kmeans_labels, cmap=\"autumn\")\n",
        "plt.scatter(centroides_pca[:,0], centroides_pca[:,1], marker='o', color=\"black\", linewidths=4, zorder=10)\n",
        "plt.title(\"Data clusterizada por analisis de componentes principales\")\n",
        "plt.xlabel(\"componente 1\")\n",
        "plt.ylabel(\"componente 2\")\n",
        "\n",
        "plt.show()"
      ],
      "execution_count": null,
      "outputs": [
        {
          "output_type": "display_data",
          "data": {
            "image/png": "[encoded data removed]",
            "text/plain": [
              "<Figure size 648x432 with 1 Axes>"
            ]
          },
          "metadata": {}
        }
      ]
    },
    {
      "cell_type": "markdown",
      "metadata": {
        "id": "u8Q3jbgfqtUW"
      },
      "source": [
        "# KNN"
      ]
    },
    {
      "cell_type": "code",
      "metadata": {
        "id": "QwdbwI1yqu_I"
      },
      "source": [
        "import pandas as pd\n",
        "import numpy as np\n",
        "import statistics as stats\n",
        "import seaborn as sns\n",
        "\n",
        "from sklearn.preprocessing import MinMaxScaler\n",
        "from sklearn.model_selection import train_test_split\n",
        "from sklearn.neighbors import KNeighborsClassifier\n",
        "from sklearn.metrics import precision_score\n",
        "from sklearn.metrics import accuracy_score\n",
        "from sklearn.metrics import classification_report\n",
        "from sklearn.metrics import plot_confusion_matrix\n",
        "from sklearn.metrics import roc_curve\n",
        "from sklearn.metrics import roc_auc_score\n",
        "from sklearn.metrics import auc\n",
        "\n",
        "import matplotlib.pyplot as plt"
      ],
      "execution_count": null,
      "outputs": []
    },
    {
      "cell_type": "code",
      "metadata": {
        "colab": {
          "base_uri": "https://localhost:8080/",
          "height": 206
        },
        "id": "aDKDQngTq_5Z",
        "outputId": "6de4367f-9912-46da-9180-fa64da002cf0"
      },
      "source": [
        "df = pd.read_csv('https://raw.githubusercontent.com/maggiesam/BEDU-DataScience/main/Datasets/dataframe-junto.csv')\n",
        "df.head()"
      ],
      "execution_count": null,
      "outputs": [
        {
          "output_type": "execute_result",
          "data": {
            "text/html": [
              "<div>\n",
              "<style scoped>\n",
              "    .dataframe tbody tr th:only-of-type {\n",
              "        vertical-align: middle;\n",
              "    }\n",
              "\n",
              "    .dataframe tbody tr th {\n",
              "        vertical-align: top;\n",
              "    }\n",
              "\n",
              "    .dataframe thead th {\n",
              "        text-align: right;\n",
              "    }\n",
              "</style>\n",
              "<table border=\"1\" class=\"dataframe\">\n",
              "  <thead>\n",
              "    <tr style=\"text-align: right;\">\n",
              "      <th></th>\n",
              "      <th>Unnamed: 0</th>\n",
              "      <th>ENTIDAD</th>\n",
              "      <th>Mes</th>\n",
              "      <th>Año</th>\n",
              "      <th>Tipo_sequia</th>\n",
              "      <th>Precipitacion</th>\n",
              "      <th>Temperatura_promedio</th>\n",
              "      <th>Temperatura_maxima</th>\n",
              "      <th>Temperatura_minima</th>\n",
              "      <th>Sembrada_ha</th>\n",
              "      <th>Cosechada_ha</th>\n",
              "      <th>perdida_ha</th>\n",
              "      <th>producto</th>\n",
              "    </tr>\n",
              "  </thead>\n",
              "  <tbody>\n",
              "    <tr>\n",
              "      <th>0</th>\n",
              "      <td>0</td>\n",
              "      <td>Aguascalientes</td>\n",
              "      <td>1</td>\n",
              "      <td>2005</td>\n",
              "      <td>NPS</td>\n",
              "      <td>0.0</td>\n",
              "      <td>12.699696</td>\n",
              "      <td>22.643727</td>\n",
              "      <td>2.755665</td>\n",
              "      <td>47286</td>\n",
              "      <td>43031</td>\n",
              "      <td>4255</td>\n",
              "      <td>maiz</td>\n",
              "    </tr>\n",
              "    <tr>\n",
              "      <th>1</th>\n",
              "      <td>1</td>\n",
              "      <td>Aguascalientes</td>\n",
              "      <td>1</td>\n",
              "      <td>2005</td>\n",
              "      <td>NPS</td>\n",
              "      <td>0.0</td>\n",
              "      <td>12.699696</td>\n",
              "      <td>22.643727</td>\n",
              "      <td>2.755665</td>\n",
              "      <td>11950</td>\n",
              "      <td>10570</td>\n",
              "      <td>1380</td>\n",
              "      <td>frijol</td>\n",
              "    </tr>\n",
              "    <tr>\n",
              "      <th>2</th>\n",
              "      <td>2</td>\n",
              "      <td>Aguascalientes</td>\n",
              "      <td>1</td>\n",
              "      <td>2006</td>\n",
              "      <td>D0</td>\n",
              "      <td>4.8</td>\n",
              "      <td>13.128922</td>\n",
              "      <td>24.114734</td>\n",
              "      <td>2.143109</td>\n",
              "      <td>39600</td>\n",
              "      <td>17684</td>\n",
              "      <td>21916</td>\n",
              "      <td>maiz</td>\n",
              "    </tr>\n",
              "    <tr>\n",
              "      <th>3</th>\n",
              "      <td>3</td>\n",
              "      <td>Aguascalientes</td>\n",
              "      <td>1</td>\n",
              "      <td>2006</td>\n",
              "      <td>D0</td>\n",
              "      <td>4.8</td>\n",
              "      <td>13.128922</td>\n",
              "      <td>24.114734</td>\n",
              "      <td>2.143109</td>\n",
              "      <td>10819</td>\n",
              "      <td>6602</td>\n",
              "      <td>4217</td>\n",
              "      <td>frijol</td>\n",
              "    </tr>\n",
              "    <tr>\n",
              "      <th>4</th>\n",
              "      <td>4</td>\n",
              "      <td>Aguascalientes</td>\n",
              "      <td>1</td>\n",
              "      <td>2007</td>\n",
              "      <td>NPS</td>\n",
              "      <td>17.2</td>\n",
              "      <td>13.320241</td>\n",
              "      <td>21.932079</td>\n",
              "      <td>4.860635</td>\n",
              "      <td>37727</td>\n",
              "      <td>31610</td>\n",
              "      <td>6117</td>\n",
              "      <td>maiz</td>\n",
              "    </tr>\n",
              "  </tbody>\n",
              "</table>\n",
              "</div>"
            ],
            "text/plain": [
              "   Unnamed: 0         ENTIDAD  Mes  ...  Cosechada_ha perdida_ha  producto\n",
              "0           0  Aguascalientes    1  ...         43031       4255      maiz\n",
              "1           1  Aguascalientes    1  ...         10570       1380    frijol\n",
              "2           2  Aguascalientes    1  ...         17684      21916      maiz\n",
              "3           3  Aguascalientes    1  ...          6602       4217    frijol\n",
              "4           4  Aguascalientes    1  ...         31610       6117      maiz\n",
              "\n",
              "[5 rows x 13 columns]"
            ]
          },
          "metadata": {},
          "execution_count": 176
        }
      ]
    },
    {
      "cell_type": "code",
      "metadata": {
        "id": "L9d79zEqvTgp"
      },
      "source": [
        "mapping = {'NPS':0,'D0':1, 'D1':1, 'D2':1, 'D3':1, 'D4':1}\n",
        "df['class'] =  df['Tipo_sequia'].map(mapping)\n",
        "df = df.drop('Unnamed: 0', axis=1)"
      ],
      "execution_count": null,
      "outputs": []
    },
    {
      "cell_type": "code",
      "metadata": {
        "id": "9EclTESAv8gs"
      },
      "source": [
        "datos = df[['Precipitacion', 'Temperatura_promedio', 'Temperatura_maxima', 'Temperatura_minima', 'class']]"
      ],
      "execution_count": null,
      "outputs": []
    },
    {
      "cell_type": "code",
      "metadata": {
        "colab": {
          "base_uri": "https://localhost:8080/",
          "height": 424
        },
        "id": "XstiEashvBO5",
        "outputId": "c3f9842a-a36d-4cd9-d837-876a784b88f8"
      },
      "source": [
        "scaler = MinMaxScaler(feature_range=(0, 1))\n",
        "\n",
        "scaled_training = scaler.fit_transform(datos)\n",
        "\n",
        "scaled_training_df = pd.DataFrame(scaled_training, columns=datos.columns.values)\n",
        "scaled_training_df"
      ],
      "execution_count": null,
      "outputs": [
        {
          "output_type": "execute_result",
          "data": {
            "text/html": [
              "<div>\n",
              "<style scoped>\n",
              "    .dataframe tbody tr th:only-of-type {\n",
              "        vertical-align: middle;\n",
              "    }\n",
              "\n",
              "    .dataframe tbody tr th {\n",
              "        vertical-align: top;\n",
              "    }\n",
              "\n",
              "    .dataframe thead th {\n",
              "        text-align: right;\n",
              "    }\n",
              "</style>\n",
              "<table border=\"1\" class=\"dataframe\">\n",
              "  <thead>\n",
              "    <tr style=\"text-align: right;\">\n",
              "      <th></th>\n",
              "      <th>Precipitacion</th>\n",
              "      <th>Temperatura_promedio</th>\n",
              "      <th>Temperatura_maxima</th>\n",
              "      <th>Temperatura_minima</th>\n",
              "      <th>class</th>\n",
              "    </tr>\n",
              "  </thead>\n",
              "  <tbody>\n",
              "    <tr>\n",
              "      <th>0</th>\n",
              "      <td>0.000000</td>\n",
              "      <td>0.161223</td>\n",
              "      <td>0.282617</td>\n",
              "      <td>0.102884</td>\n",
              "      <td>0.0</td>\n",
              "    </tr>\n",
              "    <tr>\n",
              "      <th>1</th>\n",
              "      <td>0.000000</td>\n",
              "      <td>0.161223</td>\n",
              "      <td>0.282617</td>\n",
              "      <td>0.102884</td>\n",
              "      <td>0.0</td>\n",
              "    </tr>\n",
              "    <tr>\n",
              "      <th>2</th>\n",
              "      <td>0.005981</td>\n",
              "      <td>0.179406</td>\n",
              "      <td>0.342385</td>\n",
              "      <td>0.082260</td>\n",
              "      <td>1.0</td>\n",
              "    </tr>\n",
              "    <tr>\n",
              "      <th>3</th>\n",
              "      <td>0.005981</td>\n",
              "      <td>0.179406</td>\n",
              "      <td>0.342385</td>\n",
              "      <td>0.082260</td>\n",
              "      <td>1.0</td>\n",
              "    </tr>\n",
              "    <tr>\n",
              "      <th>4</th>\n",
              "      <td>0.021433</td>\n",
              "      <td>0.187510</td>\n",
              "      <td>0.253702</td>\n",
              "      <td>0.173759</td>\n",
              "      <td>0.0</td>\n",
              "    </tr>\n",
              "    <tr>\n",
              "      <th>...</th>\n",
              "      <td>...</td>\n",
              "      <td>...</td>\n",
              "      <td>...</td>\n",
              "      <td>...</td>\n",
              "      <td>...</td>\n",
              "    </tr>\n",
              "    <tr>\n",
              "      <th>12083</th>\n",
              "      <td>0.062181</td>\n",
              "      <td>0.322211</td>\n",
              "      <td>0.345849</td>\n",
              "      <td>0.303030</td>\n",
              "      <td>0.0</td>\n",
              "    </tr>\n",
              "    <tr>\n",
              "      <th>12084</th>\n",
              "      <td>0.062181</td>\n",
              "      <td>0.322211</td>\n",
              "      <td>0.345849</td>\n",
              "      <td>0.303030</td>\n",
              "      <td>0.0</td>\n",
              "    </tr>\n",
              "    <tr>\n",
              "      <th>12085</th>\n",
              "      <td>0.000000</td>\n",
              "      <td>0.313738</td>\n",
              "      <td>0.451488</td>\n",
              "      <td>0.208754</td>\n",
              "      <td>1.0</td>\n",
              "    </tr>\n",
              "    <tr>\n",
              "      <th>12086</th>\n",
              "      <td>0.000000</td>\n",
              "      <td>0.313738</td>\n",
              "      <td>0.451488</td>\n",
              "      <td>0.208754</td>\n",
              "      <td>1.0</td>\n",
              "    </tr>\n",
              "    <tr>\n",
              "      <th>12087</th>\n",
              "      <td>0.000000</td>\n",
              "      <td>0.313738</td>\n",
              "      <td>0.451488</td>\n",
              "      <td>0.208754</td>\n",
              "      <td>1.0</td>\n",
              "    </tr>\n",
              "  </tbody>\n",
              "</table>\n",
              "<p>12088 rows × 5 columns</p>\n",
              "</div>"
            ],
            "text/plain": [
              "       Precipitacion  Temperatura_promedio  ...  Temperatura_minima  class\n",
              "0           0.000000              0.161223  ...            0.102884    0.0\n",
              "1           0.000000              0.161223  ...            0.102884    0.0\n",
              "2           0.005981              0.179406  ...            0.082260    1.0\n",
              "3           0.005981              0.179406  ...            0.082260    1.0\n",
              "4           0.021433              0.187510  ...            0.173759    0.0\n",
              "...              ...                   ...  ...                 ...    ...\n",
              "12083       0.062181              0.322211  ...            0.303030    0.0\n",
              "12084       0.062181              0.322211  ...            0.303030    0.0\n",
              "12085       0.000000              0.313738  ...            0.208754    1.0\n",
              "12086       0.000000              0.313738  ...            0.208754    1.0\n",
              "12087       0.000000              0.313738  ...            0.208754    1.0\n",
              "\n",
              "[12088 rows x 5 columns]"
            ]
          },
          "metadata": {},
          "execution_count": 163
        }
      ]
    },
    {
      "cell_type": "code",
      "metadata": {
        "id": "F805vG5hznmX"
      },
      "source": [
        "datos_training = datos.iloc[:12050, :]\n",
        "datos_testing = datos.iloc[12050:, :]"
      ],
      "execution_count": null,
      "outputs": []
    },
    {
      "cell_type": "code",
      "metadata": {
        "id": "Fw_4HpdZxCC5"
      },
      "source": [
        "X = np.array(datos_training.drop(['class'], 1))\n",
        "y = np.array(datos_training['class'])\n",
        "\n",
        "X_train, X_test, y_train, y_test = train_test_split(X, y, test_size=0.2)"
      ],
      "execution_count": null,
      "outputs": []
    },
    {
      "cell_type": "code",
      "metadata": {
        "colab": {
          "base_uri": "https://localhost:8080/",
          "height": 422
        },
        "id": "P1oW64lMzHBN",
        "outputId": "4d30ff7f-4e27-4de0-8953-60f0b9f0197e"
      },
      "source": [
        "error = []\n",
        "\n",
        "# Calculating error for K values between 1 and 40\n",
        "for i in range(1, 40):\n",
        "    knn = KNeighborsClassifier(n_neighbors=i)\n",
        "    knn.fit(X_train, y_train)\n",
        "    pred_i = knn.predict(X_test)\n",
        "    error.append(np.mean(pred_i != y_test))\n",
        "\n",
        "plt.figure(figsize=(15, 6))\n",
        "plt.plot(range(1, 40), error, color='red', linestyle='dashed', marker='o',\n",
        "         markerfacecolor='blue', markersize=10)\n",
        "plt.title('Error Rate K Value')\n",
        "plt.xlabel('K Value')\n",
        "plt.ylabel('Mean Error')"
      ],
      "execution_count": null,
      "outputs": [
        {
          "output_type": "execute_result",
          "data": {
            "text/plain": [
              "Text(0, 0.5, 'Mean Error')"
            ]
          },
          "metadata": {},
          "execution_count": 181
        },
        {
          "output_type": "display_data",
          "data": {
            "image/png": "[encoded data removed]",
            "text/plain": [
              "<Figure size 1080x432 with 1 Axes>"
            ]
          },
          "metadata": {
            "needs_background": "light"
          }
        }
      ]
    },
    {
      "cell_type": "code",
      "metadata": {
        "colab": {
          "base_uri": "https://localhost:8080/"
        },
        "id": "VLuC62oz4lOt",
        "outputId": "cd8429ca-3907-477b-c00d-25d8e6580827"
      },
      "source": [
        "##K neighbors\n",
        "knn = KNeighborsClassifier(n_neighbors = 1, weights = 'uniform', p = 2)\n",
        "knn.fit(X_train, y_train)\n",
        "y_pred = knn.predict(X_test)\n",
        "\n",
        "precision = precision_score(y_test, y_pred)\n",
        "print(\"Precision: \", precision, \"\\n\")\n",
        "\n",
        "accuracy = accuracy_score(y_test, y_pred)\n",
        "print(\"Accuracy:  \", accuracy, \"\\n\")\n",
        "\n",
        "target_name = ['class 0', 'class 1']\n",
        "reporte = classification_report(y_test, y_pred, target_names=target_name)\n",
        "print('Classification report:')\n",
        "print(reporte)"
      ],
      "execution_count": null,
      "outputs": [
        {
          "output_type": "stream",
          "name": "stdout",
          "text": [
            "Precision:  0.9010238907849829 \n",
            "\n",
            "Accuracy:   0.9352697095435685 \n",
            "\n",
            "Classification report:\n",
            "              precision    recall  f1-score   support\n",
            "\n",
            "     class 0       0.95      0.94      0.95      1549\n",
            "     class 1       0.90      0.92      0.91       861\n",
            "\n",
            "    accuracy                           0.94      2410\n",
            "   macro avg       0.93      0.93      0.93      2410\n",
            "weighted avg       0.94      0.94      0.94      2410\n",
            "\n"
          ]
        }
      ]
    },
    {
      "cell_type": "code",
      "metadata": {
        "colab": {
          "base_uri": "https://localhost:8080/",
          "height": 279
        },
        "id": "fBLD0MajxZ8A",
        "outputId": "6bbb62e3-053a-4826-c0d6-675605acd75c"
      },
      "source": [
        "#Confusion Matrix\n",
        "class_names = ['class 0', 'class1']\n",
        "\n",
        "titles_options = [(\"Confusion matrix\", None)]\n",
        "disp = plot_confusion_matrix(knn, X_test, y_test,\n",
        "                                 display_labels=class_names,\n",
        "                                 cmap=plt.cm.Blues)\n"
      ],
      "execution_count": null,
      "outputs": [
        {
          "output_type": "display_data",
          "data": {
            "image/png": "[encoded data removed]",
            "text/plain": [
              "<Figure size 432x288 with 2 Axes>"
            ]
          },
          "metadata": {
            "needs_background": "light"
          }
        }
      ]
    },
    {
      "cell_type": "code",
      "metadata": {
        "colab": {
          "base_uri": "https://localhost:8080/",
          "height": 517
        },
        "id": "U2AChlTfy843",
        "outputId": "5eafd41c-2eba-44d9-fce2-4d75d53f10ff"
      },
      "source": [
        "#Create model No Skill\n",
        "ns_probs = [0 for _ in range(len(y_test))]\n",
        "# predict probabilities\n",
        "knn_probs = knn.predict_proba(X_test)\n",
        "# keep probabilities for the positive outcome only\n",
        "knn_probs = knn_probs[:, 1]\n",
        "# calculate roc curves\n",
        "ns_fpr, ns_tpr, _ = roc_curve(y_test, ns_probs)\n",
        "auc_ns = auc(ns_fpr, ns_tpr)\n",
        "\n",
        "knn_fpr, knn_tpr, _ = roc_curve(y_test, knn_probs)\n",
        "auc_knn = auc(knn_fpr, knn_tpr)\n",
        "\n",
        "print(\"True Positve Rate(sensitivity): \", stats.mean(knn_tpr))\n",
        "print(\"False Positive Rate(specificity): \", stats.mean(knn_fpr))\n",
        "\n",
        "# plot the roc curve for the model\n",
        "plt.figure(figsize=(5,5), dpi=100)\n",
        "plt.plot(ns_fpr, ns_tpr, linestyle='--', label='No Skill(auc = %0.3f)'% auc_ns)\n",
        "plt.plot(knn_fpr, knn_tpr, marker='.', label='K Neighbors Classifier(auc = %0.3f)' % auc_knn)\n",
        "# axis labels\n",
        "plt.xlabel('False Positive Rate')\n",
        "plt.ylabel('True Positive Rate')\n",
        "plt.title('ROC and AUC Curve')\n",
        "# show the legend\n",
        "plt.legend()\n",
        "# show the plot\n",
        "plt.show()"
      ],
      "execution_count": null,
      "outputs": [
        {
          "output_type": "stream",
          "name": "stdout",
          "text": [
            "True Positve Rate(sensitivity):  0.6399535423925667\n",
            "False Positive Rate(specificity):  0.3520550893049279\n"
          ]
        },
        {
          "output_type": "display_data",
          "data": {
            "image/png": "[encoded data removed]",
            "text/plain": [
              "<Figure size 500x500 with 1 Axes>"
            ]
          },
          "metadata": {
            "needs_background": "light"
          }
        }
      ]
    },
    {
      "cell_type": "code",
      "metadata": {
        "id": "AdysOCIo1EUR"
      },
      "source": [
        "tipo = df.iloc[12050:]['Tipo_sequia'].map(mapping)"
      ],
      "execution_count": null,
      "outputs": []
    },
    {
      "cell_type": "code",
      "metadata": {
        "colab": {
          "base_uri": "https://localhost:8080/",
          "height": 1000
        },
        "id": "3yA2-swl0f6I",
        "outputId": "07bc0411-67b9-4679-e4bf-ecc5e00ce879"
      },
      "source": [
        "##K neighbors\n",
        "prediccion_knn = knn.predict(datos_testing.drop(['class'],1))\n",
        "out_knn = pd.DataFrame({ 'Tipo real' : tipo, 'predicted ': prediccion_knn })\n",
        "print('Predicción Vecinos más Cercanos:')\n",
        "out_knn"
      ],
      "execution_count": null,
      "outputs": [
        {
          "output_type": "stream",
          "name": "stdout",
          "text": [
            "Predicción Vecinos más Cercanos:\n"
          ]
        },
        {
          "output_type": "execute_result",
          "data": {
            "text/html": [
              "<div>\n",
              "<style scoped>\n",
              "    .dataframe tbody tr th:only-of-type {\n",
              "        vertical-align: middle;\n",
              "    }\n",
              "\n",
              "    .dataframe tbody tr th {\n",
              "        vertical-align: top;\n",
              "    }\n",
              "\n",
              "    .dataframe thead th {\n",
              "        text-align: right;\n",
              "    }\n",
              "</style>\n",
              "<table border=\"1\" class=\"dataframe\">\n",
              "  <thead>\n",
              "    <tr style=\"text-align: right;\">\n",
              "      <th></th>\n",
              "      <th>Tipo real</th>\n",
              "      <th>predicted</th>\n",
              "    </tr>\n",
              "  </thead>\n",
              "  <tbody>\n",
              "    <tr>\n",
              "      <th>12050</th>\n",
              "      <td>0</td>\n",
              "      <td>0</td>\n",
              "    </tr>\n",
              "    <tr>\n",
              "      <th>12051</th>\n",
              "      <td>0</td>\n",
              "      <td>0</td>\n",
              "    </tr>\n",
              "    <tr>\n",
              "      <th>12052</th>\n",
              "      <td>0</td>\n",
              "      <td>0</td>\n",
              "    </tr>\n",
              "    <tr>\n",
              "      <th>12053</th>\n",
              "      <td>0</td>\n",
              "      <td>0</td>\n",
              "    </tr>\n",
              "    <tr>\n",
              "      <th>12054</th>\n",
              "      <td>0</td>\n",
              "      <td>0</td>\n",
              "    </tr>\n",
              "    <tr>\n",
              "      <th>12055</th>\n",
              "      <td>0</td>\n",
              "      <td>0</td>\n",
              "    </tr>\n",
              "    <tr>\n",
              "      <th>12056</th>\n",
              "      <td>0</td>\n",
              "      <td>0</td>\n",
              "    </tr>\n",
              "    <tr>\n",
              "      <th>12057</th>\n",
              "      <td>0</td>\n",
              "      <td>0</td>\n",
              "    </tr>\n",
              "    <tr>\n",
              "      <th>12058</th>\n",
              "      <td>0</td>\n",
              "      <td>0</td>\n",
              "    </tr>\n",
              "    <tr>\n",
              "      <th>12059</th>\n",
              "      <td>1</td>\n",
              "      <td>0</td>\n",
              "    </tr>\n",
              "    <tr>\n",
              "      <th>12060</th>\n",
              "      <td>1</td>\n",
              "      <td>0</td>\n",
              "    </tr>\n",
              "    <tr>\n",
              "      <th>12061</th>\n",
              "      <td>1</td>\n",
              "      <td>0</td>\n",
              "    </tr>\n",
              "    <tr>\n",
              "      <th>12062</th>\n",
              "      <td>1</td>\n",
              "      <td>1</td>\n",
              "    </tr>\n",
              "    <tr>\n",
              "      <th>12063</th>\n",
              "      <td>1</td>\n",
              "      <td>1</td>\n",
              "    </tr>\n",
              "    <tr>\n",
              "      <th>12064</th>\n",
              "      <td>1</td>\n",
              "      <td>1</td>\n",
              "    </tr>\n",
              "    <tr>\n",
              "      <th>12065</th>\n",
              "      <td>0</td>\n",
              "      <td>1</td>\n",
              "    </tr>\n",
              "    <tr>\n",
              "      <th>12066</th>\n",
              "      <td>0</td>\n",
              "      <td>1</td>\n",
              "    </tr>\n",
              "    <tr>\n",
              "      <th>12067</th>\n",
              "      <td>0</td>\n",
              "      <td>1</td>\n",
              "    </tr>\n",
              "    <tr>\n",
              "      <th>12068</th>\n",
              "      <td>0</td>\n",
              "      <td>0</td>\n",
              "    </tr>\n",
              "    <tr>\n",
              "      <th>12069</th>\n",
              "      <td>0</td>\n",
              "      <td>0</td>\n",
              "    </tr>\n",
              "    <tr>\n",
              "      <th>12070</th>\n",
              "      <td>0</td>\n",
              "      <td>0</td>\n",
              "    </tr>\n",
              "    <tr>\n",
              "      <th>12071</th>\n",
              "      <td>0</td>\n",
              "      <td>0</td>\n",
              "    </tr>\n",
              "    <tr>\n",
              "      <th>12072</th>\n",
              "      <td>0</td>\n",
              "      <td>0</td>\n",
              "    </tr>\n",
              "    <tr>\n",
              "      <th>12073</th>\n",
              "      <td>0</td>\n",
              "      <td>0</td>\n",
              "    </tr>\n",
              "    <tr>\n",
              "      <th>12074</th>\n",
              "      <td>0</td>\n",
              "      <td>0</td>\n",
              "    </tr>\n",
              "    <tr>\n",
              "      <th>12075</th>\n",
              "      <td>0</td>\n",
              "      <td>0</td>\n",
              "    </tr>\n",
              "    <tr>\n",
              "      <th>12076</th>\n",
              "      <td>0</td>\n",
              "      <td>0</td>\n",
              "    </tr>\n",
              "    <tr>\n",
              "      <th>12077</th>\n",
              "      <td>0</td>\n",
              "      <td>1</td>\n",
              "    </tr>\n",
              "    <tr>\n",
              "      <th>12078</th>\n",
              "      <td>0</td>\n",
              "      <td>1</td>\n",
              "    </tr>\n",
              "    <tr>\n",
              "      <th>12079</th>\n",
              "      <td>0</td>\n",
              "      <td>1</td>\n",
              "    </tr>\n",
              "    <tr>\n",
              "      <th>12080</th>\n",
              "      <td>0</td>\n",
              "      <td>0</td>\n",
              "    </tr>\n",
              "    <tr>\n",
              "      <th>12081</th>\n",
              "      <td>0</td>\n",
              "      <td>0</td>\n",
              "    </tr>\n",
              "    <tr>\n",
              "      <th>12082</th>\n",
              "      <td>0</td>\n",
              "      <td>0</td>\n",
              "    </tr>\n",
              "    <tr>\n",
              "      <th>12083</th>\n",
              "      <td>0</td>\n",
              "      <td>0</td>\n",
              "    </tr>\n",
              "    <tr>\n",
              "      <th>12084</th>\n",
              "      <td>0</td>\n",
              "      <td>0</td>\n",
              "    </tr>\n",
              "    <tr>\n",
              "      <th>12085</th>\n",
              "      <td>1</td>\n",
              "      <td>0</td>\n",
              "    </tr>\n",
              "    <tr>\n",
              "      <th>12086</th>\n",
              "      <td>1</td>\n",
              "      <td>0</td>\n",
              "    </tr>\n",
              "    <tr>\n",
              "      <th>12087</th>\n",
              "      <td>1</td>\n",
              "      <td>0</td>\n",
              "    </tr>\n",
              "  </tbody>\n",
              "</table>\n",
              "</div>"
            ],
            "text/plain": [
              "       Tipo real  predicted \n",
              "12050          0           0\n",
              "12051          0           0\n",
              "12052          0           0\n",
              "12053          0           0\n",
              "12054          0           0\n",
              "12055          0           0\n",
              "12056          0           0\n",
              "12057          0           0\n",
              "12058          0           0\n",
              "12059          1           0\n",
              "12060          1           0\n",
              "12061          1           0\n",
              "12062          1           1\n",
              "12063          1           1\n",
              "12064          1           1\n",
              "12065          0           1\n",
              "12066          0           1\n",
              "12067          0           1\n",
              "12068          0           0\n",
              "12069          0           0\n",
              "12070          0           0\n",
              "12071          0           0\n",
              "12072          0           0\n",
              "12073          0           0\n",
              "12074          0           0\n",
              "12075          0           0\n",
              "12076          0           0\n",
              "12077          0           1\n",
              "12078          0           1\n",
              "12079          0           1\n",
              "12080          0           0\n",
              "12081          0           0\n",
              "12082          0           0\n",
              "12083          0           0\n",
              "12084          0           0\n",
              "12085          1           0\n",
              "12086          1           0\n",
              "12087          1           0"
            ]
          },
          "metadata": {},
          "execution_count": 186
        }
      ]
    },
    {
      "cell_type": "markdown",
      "metadata": {
        "id": "y0sBa3wR8sdd"
      },
      "source": [
        "# Random Forest Classifier"
      ]
    },
    {
      "cell_type": "code",
      "metadata": {
        "id": "rd3Xi5Qs8uX4"
      },
      "source": [
        "from sklearn.model_selection import train_test_split\n",
        "from sklearn.ensemble import RandomForestClassifier"
      ],
      "execution_count": null,
      "outputs": []
    },
    {
      "cell_type": "code",
      "metadata": {
        "id": "FjBX97AVP-do"
      },
      "source": [
        "#Separo los datos de \"train\" en entrenamiento y prueba para probar los algoritmos\n",
        "X_train, X_test, y_train, y_test = train_test_split(X, y, test_size=0.2, random_state=42)\n"
      ],
      "execution_count": null,
      "outputs": []
    },
    {
      "cell_type": "code",
      "metadata": {
        "colab": {
          "base_uri": "https://localhost:8080/",
          "height": 422
        },
        "id": "SoGv5grRIjJM",
        "outputId": "8ac4375a-d23c-43a5-e7b8-0dd580a053e8"
      },
      "source": [
        "preciciones = []\n",
        "\n",
        "for i in range(1,100):\n",
        "  algoritmo = RandomForestClassifier(n_estimators = 6, criterion = 'gini')\n",
        "  algoritmo.fit(X_train, y_train)\n",
        "  y_pred = algoritmo.predict(X_test)\n",
        "  preciciones.append(precision_score(y_test, y_pred))\n",
        "\n",
        "plt.figure(figsize=(15, 6))\n",
        "plt.plot(range(1, 100), preciciones, color='red', linestyle='dashed', marker='o',\n",
        "         markerfacecolor='blue', markersize=10)\n",
        "plt.title('N values')\n",
        "plt.xlabel('n Estimator')\n",
        "plt.ylabel('Precision')"
      ],
      "execution_count": null,
      "outputs": [
        {
          "output_type": "execute_result",
          "data": {
            "text/plain": [
              "Text(0, 0.5, 'Precision')"
            ]
          },
          "metadata": {},
          "execution_count": 224
        },
        {
          "output_type": "display_data",
          "data": {
            "image/png": "[encoded data removed]",
            "text/plain": [
              "<Figure size 1080x432 with 1 Axes>"
            ]
          },
          "metadata": {
            "needs_background": "light"
          }
        }
      ]
    },
    {
      "cell_type": "code",
      "metadata": {
        "colab": {
          "base_uri": "https://localhost:8080/"
        },
        "id": "l2v6Mz9kHvy-",
        "outputId": "62322a41-fdde-4b67-a21d-c3879441bcf1"
      },
      "source": [
        "#Defino el algoritmo a utilizar\n",
        "#Bosques Aleatorios\n",
        "algoritmo = RandomForestClassifier(n_estimators = 41, criterion = 'gini')\n",
        "\n",
        "#Entreno el modelo\n",
        "algoritmo.fit(X_train, y_train)\n",
        "\n",
        "#Realizo una predicción\n",
        "y_pred = algoritmo.predict(X_test)\n",
        "\n",
        "#Verifico la matriz de Confusión\n",
        "from sklearn.metrics import confusion_matrix\n",
        "\n",
        "matriz = confusion_matrix(y_test, y_pred)\n",
        "print('Matriz de Confusión:')\n",
        "print(matriz)\n",
        "\n",
        "#Calculo la precisión del modelo\n",
        "from sklearn.metrics import precision_score\n",
        "\n",
        "precision = precision_score(y_test, y_pred)\n",
        "print('Precisión del modelo:')\n",
        "print(precision)"
      ],
      "execution_count": null,
      "outputs": [
        {
          "output_type": "stream",
          "name": "stdout",
          "text": [
            "Matriz de Confusión:\n",
            "[[1502   59]\n",
            " [  74  775]]\n",
            "Precisión del modelo:\n",
            "0.9292565947242206\n"
          ]
        }
      ]
    },
    {
      "cell_type": "code",
      "metadata": {
        "colab": {
          "base_uri": "https://localhost:8080/",
          "height": 1000
        },
        "id": "vkyamiwdIKXu",
        "outputId": "25e11910-ba51-47a9-c35d-be71bc3f5824"
      },
      "source": [
        "prediccion_rf = algoritmo.predict(datos_testing.drop(['class'],1))\n",
        "\n",
        "out_rf = pd.DataFrame({ 'Tipo real' : tipo, 'predicted ': prediccion_rf})\n",
        "print('Predicción Random Forest:')\n",
        "out_rf"
      ],
      "execution_count": null,
      "outputs": [
        {
          "output_type": "stream",
          "name": "stdout",
          "text": [
            "Predicción Random Forest:\n"
          ]
        },
        {
          "output_type": "execute_result",
          "data": {
            "text/html": [
              "<div>\n",
              "<style scoped>\n",
              "    .dataframe tbody tr th:only-of-type {\n",
              "        vertical-align: middle;\n",
              "    }\n",
              "\n",
              "    .dataframe tbody tr th {\n",
              "        vertical-align: top;\n",
              "    }\n",
              "\n",
              "    .dataframe thead th {\n",
              "        text-align: right;\n",
              "    }\n",
              "</style>\n",
              "<table border=\"1\" class=\"dataframe\">\n",
              "  <thead>\n",
              "    <tr style=\"text-align: right;\">\n",
              "      <th></th>\n",
              "      <th>Tipo real</th>\n",
              "      <th>predicted</th>\n",
              "    </tr>\n",
              "  </thead>\n",
              "  <tbody>\n",
              "    <tr>\n",
              "      <th>12050</th>\n",
              "      <td>0</td>\n",
              "      <td>0</td>\n",
              "    </tr>\n",
              "    <tr>\n",
              "      <th>12051</th>\n",
              "      <td>0</td>\n",
              "      <td>0</td>\n",
              "    </tr>\n",
              "    <tr>\n",
              "      <th>12052</th>\n",
              "      <td>0</td>\n",
              "      <td>0</td>\n",
              "    </tr>\n",
              "    <tr>\n",
              "      <th>12053</th>\n",
              "      <td>0</td>\n",
              "      <td>0</td>\n",
              "    </tr>\n",
              "    <tr>\n",
              "      <th>12054</th>\n",
              "      <td>0</td>\n",
              "      <td>0</td>\n",
              "    </tr>\n",
              "    <tr>\n",
              "      <th>12055</th>\n",
              "      <td>0</td>\n",
              "      <td>0</td>\n",
              "    </tr>\n",
              "    <tr>\n",
              "      <th>12056</th>\n",
              "      <td>0</td>\n",
              "      <td>0</td>\n",
              "    </tr>\n",
              "    <tr>\n",
              "      <th>12057</th>\n",
              "      <td>0</td>\n",
              "      <td>0</td>\n",
              "    </tr>\n",
              "    <tr>\n",
              "      <th>12058</th>\n",
              "      <td>0</td>\n",
              "      <td>0</td>\n",
              "    </tr>\n",
              "    <tr>\n",
              "      <th>12059</th>\n",
              "      <td>1</td>\n",
              "      <td>0</td>\n",
              "    </tr>\n",
              "    <tr>\n",
              "      <th>12060</th>\n",
              "      <td>1</td>\n",
              "      <td>0</td>\n",
              "    </tr>\n",
              "    <tr>\n",
              "      <th>12061</th>\n",
              "      <td>1</td>\n",
              "      <td>0</td>\n",
              "    </tr>\n",
              "    <tr>\n",
              "      <th>12062</th>\n",
              "      <td>1</td>\n",
              "      <td>0</td>\n",
              "    </tr>\n",
              "    <tr>\n",
              "      <th>12063</th>\n",
              "      <td>1</td>\n",
              "      <td>0</td>\n",
              "    </tr>\n",
              "    <tr>\n",
              "      <th>12064</th>\n",
              "      <td>1</td>\n",
              "      <td>0</td>\n",
              "    </tr>\n",
              "    <tr>\n",
              "      <th>12065</th>\n",
              "      <td>0</td>\n",
              "      <td>1</td>\n",
              "    </tr>\n",
              "    <tr>\n",
              "      <th>12066</th>\n",
              "      <td>0</td>\n",
              "      <td>1</td>\n",
              "    </tr>\n",
              "    <tr>\n",
              "      <th>12067</th>\n",
              "      <td>0</td>\n",
              "      <td>1</td>\n",
              "    </tr>\n",
              "    <tr>\n",
              "      <th>12068</th>\n",
              "      <td>0</td>\n",
              "      <td>0</td>\n",
              "    </tr>\n",
              "    <tr>\n",
              "      <th>12069</th>\n",
              "      <td>0</td>\n",
              "      <td>0</td>\n",
              "    </tr>\n",
              "    <tr>\n",
              "      <th>12070</th>\n",
              "      <td>0</td>\n",
              "      <td>0</td>\n",
              "    </tr>\n",
              "    <tr>\n",
              "      <th>12071</th>\n",
              "      <td>0</td>\n",
              "      <td>0</td>\n",
              "    </tr>\n",
              "    <tr>\n",
              "      <th>12072</th>\n",
              "      <td>0</td>\n",
              "      <td>0</td>\n",
              "    </tr>\n",
              "    <tr>\n",
              "      <th>12073</th>\n",
              "      <td>0</td>\n",
              "      <td>0</td>\n",
              "    </tr>\n",
              "    <tr>\n",
              "      <th>12074</th>\n",
              "      <td>0</td>\n",
              "      <td>0</td>\n",
              "    </tr>\n",
              "    <tr>\n",
              "      <th>12075</th>\n",
              "      <td>0</td>\n",
              "      <td>0</td>\n",
              "    </tr>\n",
              "    <tr>\n",
              "      <th>12076</th>\n",
              "      <td>0</td>\n",
              "      <td>0</td>\n",
              "    </tr>\n",
              "    <tr>\n",
              "      <th>12077</th>\n",
              "      <td>0</td>\n",
              "      <td>1</td>\n",
              "    </tr>\n",
              "    <tr>\n",
              "      <th>12078</th>\n",
              "      <td>0</td>\n",
              "      <td>1</td>\n",
              "    </tr>\n",
              "    <tr>\n",
              "      <th>12079</th>\n",
              "      <td>0</td>\n",
              "      <td>1</td>\n",
              "    </tr>\n",
              "    <tr>\n",
              "      <th>12080</th>\n",
              "      <td>0</td>\n",
              "      <td>0</td>\n",
              "    </tr>\n",
              "    <tr>\n",
              "      <th>12081</th>\n",
              "      <td>0</td>\n",
              "      <td>0</td>\n",
              "    </tr>\n",
              "    <tr>\n",
              "      <th>12082</th>\n",
              "      <td>0</td>\n",
              "      <td>0</td>\n",
              "    </tr>\n",
              "    <tr>\n",
              "      <th>12083</th>\n",
              "      <td>0</td>\n",
              "      <td>0</td>\n",
              "    </tr>\n",
              "    <tr>\n",
              "      <th>12084</th>\n",
              "      <td>0</td>\n",
              "      <td>0</td>\n",
              "    </tr>\n",
              "    <tr>\n",
              "      <th>12085</th>\n",
              "      <td>1</td>\n",
              "      <td>0</td>\n",
              "    </tr>\n",
              "    <tr>\n",
              "      <th>12086</th>\n",
              "      <td>1</td>\n",
              "      <td>0</td>\n",
              "    </tr>\n",
              "    <tr>\n",
              "      <th>12087</th>\n",
              "      <td>1</td>\n",
              "      <td>0</td>\n",
              "    </tr>\n",
              "  </tbody>\n",
              "</table>\n",
              "</div>"
            ],
            "text/plain": [
              "       Tipo real  predicted \n",
              "12050          0           0\n",
              "12051          0           0\n",
              "12052          0           0\n",
              "12053          0           0\n",
              "12054          0           0\n",
              "12055          0           0\n",
              "12056          0           0\n",
              "12057          0           0\n",
              "12058          0           0\n",
              "12059          1           0\n",
              "12060          1           0\n",
              "12061          1           0\n",
              "12062          1           0\n",
              "12063          1           0\n",
              "12064          1           0\n",
              "12065          0           1\n",
              "12066          0           1\n",
              "12067          0           1\n",
              "12068          0           0\n",
              "12069          0           0\n",
              "12070          0           0\n",
              "12071          0           0\n",
              "12072          0           0\n",
              "12073          0           0\n",
              "12074          0           0\n",
              "12075          0           0\n",
              "12076          0           0\n",
              "12077          0           1\n",
              "12078          0           1\n",
              "12079          0           1\n",
              "12080          0           0\n",
              "12081          0           0\n",
              "12082          0           0\n",
              "12083          0           0\n",
              "12084          0           0\n",
              "12085          1           0\n",
              "12086          1           0\n",
              "12087          1           0"
            ]
          },
          "metadata": {},
          "execution_count": 226
        }
      ]
    }
  ]
}